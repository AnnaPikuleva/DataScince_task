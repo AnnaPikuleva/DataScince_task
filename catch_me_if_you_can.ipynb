{
  "nbformat": 4,
  "nbformat_minor": 0,
  "metadata": {
    "nbTranslate": {
      "hotkey": "alt-t",
      "displayLangs": [
        "*"
      ],
      "useGoogleTranslate": true,
      "langInMainMenu": true,
      "sourceLang": "en",
      "targetLang": "fr"
    },
    "language_info": {
      "file_extension": ".py",
      "version": "3.6.0-final",
      "pygments_lexer": "ipython3",
      "name": "python",
      "nbconvert_exporter": "python",
      "codemirror_mode": {
        "name": "ipython",
        "version": 3
      },
      "mimetype": "text/x-python"
    },
    "kernelspec": {
      "name": "python3",
      "display_name": "Python 3.6.0 64-bit",
      "metadata": {
        "interpreter": {
          "hash": "460720559df543ec3a61c3a48af6b23ca445a6b9ca3f68c9b9e9bf91653fb257"
        }
      }
    },
    "accelerator": "GPU",
    "colab": {
      "provenance": [],
      "include_colab_link": true
    }
  },
  "cells": [
    {
      "cell_type": "markdown",
      "metadata": {
        "id": "view-in-github",
        "colab_type": "text"
      },
      "source": [
        "<a href=\"https://colab.research.google.com/github/AnnaPikuleva/DataScince_task/blob/main/catch_me_if_you_can.ipynb\" target=\"_parent\"><img src=\"https://colab.research.google.com/assets/colab-badge.svg\" alt=\"Open In Colab\"/></a>"
      ]
    },
    {
      "cell_type": "code",
      "metadata": {
        "id": "v3VdOI5VBSJl",
        "ExecuteTime": {
          "start_time": "2018-03-30T18:48:44.530018Z",
          "end_time": "2018-03-30T18:48:46.015371Z"
        },
        "_uuid": "e96749c041a3e32f4b29252429724a7a3492b539",
        "_cell_guid": "e79e475d-03ae-4285-b26c-cd696e266c56",
        "trusted": false
      },
      "source": [
        "from matplotlib import pyplot as plt\n",
        "import seaborn as sns\n",
        "import xgboost as xgb\n",
        "from sklearn.model_selection import train_test_split, TimeSeriesSplit\n",
        "import numpy as np\n",
        "import pandas as pd\n",
        "from scipy.sparse import csr_matrix, hstack\n",
        "from sklearn.preprocessing import StandardScaler\n",
        "from sklearn.metrics import roc_auc_score, roc_curve, auc, confusion_matrix\n",
        "from sklearn.linear_model import LogisticRegression\n",
        "from sklearn.model_selection import cross_val_score\n",
        "from sklearn.ensemble import RandomForestClassifier\n",
        "from sklearn.feature_extraction.text import CountVectorizer"
      ],
      "execution_count": null,
      "outputs": []
    },
    {
      "cell_type": "code",
      "source": [
        " !gdown --id 1aAVxXvmrX63bQebhCRhS7RJO9x7wtW_g\n",
        " !gdown --id 1YWUzIPyt25t0Ixqp972G2eu-pJaUhLtE\n",
        " !gdown --id 1JGGpmTbhFYL1Oz6x3OtRfCrlzBEJ_9O2"
      ],
      "metadata": {
        "colab": {
          "base_uri": "https://localhost:8080/"
        },
        "id": "J1qUa8tEBT1j",
        "outputId": "a1e01bf7-8682-434d-a51e-4a72c01f31ce"
      },
      "execution_count": null,
      "outputs": [
        {
          "output_type": "stream",
          "name": "stdout",
          "text": [
            "/usr/local/lib/python3.8/dist-packages/gdown/cli.py:127: FutureWarning: Option `--id` was deprecated in version 4.3.1 and will be removed in 5.0. You don't need to pass it anymore to use a file ID.\n",
            "  warnings.warn(\n",
            "Downloading...\n",
            "From: https://drive.google.com/uc?id=1aAVxXvmrX63bQebhCRhS7RJO9x7wtW_g\n",
            "To: /content/test_sessions.csv\n",
            "100% 19.5M/19.5M [00:00<00:00, 130MB/s]\n",
            "/usr/local/lib/python3.8/dist-packages/gdown/cli.py:127: FutureWarning: Option `--id` was deprecated in version 4.3.1 and will be removed in 5.0. You don't need to pass it anymore to use a file ID.\n",
            "  warnings.warn(\n",
            "Downloading...\n",
            "From: https://drive.google.com/uc?id=1YWUzIPyt25t0Ixqp972G2eu-pJaUhLtE\n",
            "To: /content/train_sessions.csv\n",
            "100% 60.5M/60.5M [00:00<00:00, 176MB/s]\n",
            "/usr/local/lib/python3.8/dist-packages/gdown/cli.py:127: FutureWarning: Option `--id` was deprecated in version 4.3.1 and will be removed in 5.0. You don't need to pass it anymore to use a file ID.\n",
            "  warnings.warn(\n",
            "Downloading...\n",
            "From: https://drive.google.com/uc?id=1JGGpmTbhFYL1Oz6x3OtRfCrlzBEJ_9O2\n",
            "To: /content/site_dic.pkl\n",
            "100% 1.80M/1.80M [00:00<00:00, 194MB/s]\n"
          ]
        }
      ]
    },
    {
      "cell_type": "markdown",
      "source": [
        "https://newtechaudit.ru/gruzi-daty-krasivo/ - как прочитать правильно колонку с датами "
      ],
      "metadata": {
        "id": "n6rzluKNJiZb"
      }
    },
    {
      "cell_type": "code",
      "metadata": {
        "id": "kKX4n4l7BSJr",
        "ExecuteTime": {
          "start_time": "2018-03-30T18:48:46.019368Z",
          "end_time": "2018-03-30T18:49:35.086762Z"
        },
        "collapsed": true,
        "_uuid": "271316382c96e9bb02ad98f0a9ac27e7482a0dcc",
        "_cell_guid": "028a9c0a-9b69-4f64-afe3-78af9adf3b04",
        "trusted": false
      },
      "source": [
        "train_df = pd.read_csv('/content/train_sessions.csv',\n",
        "                       index_col='session_id',parse_dates=['time1'])\n",
        "test_df = pd.read_csv('/content/test_sessions.csv',\n",
        "                      index_col='session_id',parse_dates=['time1'])"
      ],
      "execution_count": null,
      "outputs": []
    },
    {
      "cell_type": "code",
      "source": [
        "#смотрим на форму датафрэйма\n",
        "print(f\"train_df shape: {train_df.shape}, test_df shape: {test_df.shape}\")"
      ],
      "metadata": {
        "colab": {
          "base_uri": "https://localhost:8080/"
        },
        "id": "UyKbL1MfJlDZ",
        "outputId": "0aaf2b84-5ea2-437d-9639-df816bc5b0c1"
      },
      "execution_count": null,
      "outputs": [
        {
          "output_type": "stream",
          "name": "stdout",
          "text": [
            "train_df shape: (253561, 21), test_df shape: (82797, 20)\n"
          ]
        }
      ]
    },
    {
      "cell_type": "code",
      "source": [
        "train_df.info()"
      ],
      "metadata": {
        "colab": {
          "base_uri": "https://localhost:8080/"
        },
        "id": "SZ4eJxIfJ_m8",
        "outputId": "32917430-2a21-4a14-866b-1d045ca26303"
      },
      "execution_count": null,
      "outputs": [
        {
          "output_type": "stream",
          "name": "stdout",
          "text": [
            "<class 'pandas.core.frame.DataFrame'>\n",
            "Int64Index: 253561 entries, 1 to 253561\n",
            "Data columns (total 21 columns):\n",
            " #   Column  Non-Null Count   Dtype         \n",
            "---  ------  --------------   -----         \n",
            " 0   site1   253561 non-null  int64         \n",
            " 1   time1   253561 non-null  datetime64[ns]\n",
            " 2   site2   250098 non-null  float64       \n",
            " 3   time2   250098 non-null  object        \n",
            " 4   site3   246919 non-null  float64       \n",
            " 5   time3   246919 non-null  object        \n",
            " 6   site4   244321 non-null  float64       \n",
            " 7   time4   244321 non-null  object        \n",
            " 8   site5   241829 non-null  float64       \n",
            " 9   time5   241829 non-null  object        \n",
            " 10  site6   239495 non-null  float64       \n",
            " 11  time6   239495 non-null  object        \n",
            " 12  site7   237297 non-null  float64       \n",
            " 13  time7   237297 non-null  object        \n",
            " 14  site8   235224 non-null  float64       \n",
            " 15  time8   235224 non-null  object        \n",
            " 16  site9   233084 non-null  float64       \n",
            " 17  time9   233084 non-null  object        \n",
            " 18  site10  231052 non-null  float64       \n",
            " 19  time10  231052 non-null  object        \n",
            " 20  target  253561 non-null  int64         \n",
            "dtypes: datetime64[ns](1), float64(9), int64(2), object(9)\n",
            "memory usage: 42.6+ MB\n"
          ]
        }
      ]
    },
    {
      "cell_type": "code",
      "source": [
        "#все колонки где есть слова time пеобразуем в формат datetime\n",
        "times = ['time%s' % i for i in range(1, 11)]\n",
        "train_df[times] = train_df[times].apply(pd.to_datetime)\n",
        "test_df[times] = test_df[times].apply(pd.to_datetime)\n",
        "\n",
        "# отсортиурем по времени \n",
        "train_df = train_df.sort_values(by='time1')\n",
        "\n",
        "#все колонки где есть слова site пеобразуем в формат int\n",
        "sites = ['site%s' % i for i in range(1, 11)]\n",
        "train_df[sites] = train_df[sites].fillna(0).astype('int')\n",
        "test_df[sites] = test_df[sites].fillna(0).astype('int')"
      ],
      "metadata": {
        "id": "vkIMv8hRJJFT"
      },
      "execution_count": null,
      "outputs": []
    },
    {
      "cell_type": "code",
      "metadata": {
        "id": "gP5KCo1ZBSKS",
        "ExecuteTime": {
          "start_time": "2018-03-30T18:49:38.665188Z",
          "end_time": "2018-03-30T18:49:38.821467Z"
        },
        "_uuid": "19937b0361ad6add8bf4fb8255db534ebafa9f88",
        "_cell_guid": "2c3d72c8-4479-4e52-bf65-b235edaec31b",
        "trusted": false
      },
      "source": [
        "# выделяем целевую переменную \n",
        "y_train = train_df['target']\n",
        "# объединяем два датафрэйма (переде этим удаляем из тренировочных данных целевую переменную )\n",
        "full_df = pd.concat([train_df.drop('target', axis=1), test_df])"
      ],
      "execution_count": null,
      "outputs": []
    },
    {
      "cell_type": "code",
      "source": [
        "#количество записей в тренировочном датасэте\n",
        "idx_split = train_df.shape[0]\n",
        "idx_split"
      ],
      "metadata": {
        "colab": {
          "base_uri": "https://localhost:8080/"
        },
        "id": "HEqt-4fEKt5F",
        "outputId": "01d7ad75-e0f4-4767-b409-bb5d89ac4dd7"
      },
      "execution_count": null,
      "outputs": [
        {
          "output_type": "execute_result",
          "data": {
            "text/plain": [
              "253561"
            ]
          },
          "metadata": {},
          "execution_count": 56
        }
      ]
    },
    {
      "cell_type": "code",
      "metadata": {
        "_uuid": "95a374627c2c8ebbd58d5ffe18f27d472efc33fd",
        "_cell_guid": "095c1e3d-b237-4d75-9f09-b5166a49c7bc",
        "ExecuteTime": {
          "start_time": "2018-03-30T18:49:38.821467Z",
          "end_time": "2018-03-30T18:49:38.86919Z"
        },
        "trusted": false,
        "id": "VHsPHY4EqsR4",
        "outputId": "99010f3c-b665-4fd3-e3e5-c8dc015179ed",
        "colab": {
          "base_uri": "https://localhost:8080/",
          "height": 475
        }
      },
      "source": [
        "full_df.head(5)"
      ],
      "execution_count": null,
      "outputs": [
        {
          "output_type": "execute_result",
          "data": {
            "text/plain": [
              "            site1               time1  site2               time2  site3  \\\n",
              "session_id                                                                \n",
              "21669          56 2013-01-12 08:05:57     55 2013-01-12 08:05:57      0   \n",
              "54843          56 2013-01-12 08:37:23     55 2013-01-12 08:37:23     56   \n",
              "77292         946 2013-01-12 08:50:13    946 2013-01-12 08:50:14    951   \n",
              "114021        945 2013-01-12 08:50:17    948 2013-01-12 08:50:17    949   \n",
              "146670        947 2013-01-12 08:50:20    950 2013-01-12 08:50:20    948   \n",
              "\n",
              "                         time3  site4               time4  site5  \\\n",
              "session_id                                                         \n",
              "21669                      NaT      0                 NaT      0   \n",
              "54843      2013-01-12 09:07:07     55 2013-01-12 09:07:09      0   \n",
              "77292      2013-01-12 08:50:15    946 2013-01-12 08:50:15    946   \n",
              "114021     2013-01-12 08:50:18    948 2013-01-12 08:50:18    945   \n",
              "146670     2013-01-12 08:50:20    947 2013-01-12 08:50:21    950   \n",
              "\n",
              "                         time5  site6               time6  site7  \\\n",
              "session_id                                                         \n",
              "21669                      NaT      0                 NaT      0   \n",
              "54843                      NaT      0                 NaT      0   \n",
              "77292      2013-01-12 08:50:16    945 2013-01-12 08:50:16    948   \n",
              "114021     2013-01-12 08:50:18    946 2013-01-12 08:50:18    947   \n",
              "146670     2013-01-12 08:50:21    952 2013-01-12 08:50:21    946   \n",
              "\n",
              "                         time7  site8               time8  site9  \\\n",
              "session_id                                                         \n",
              "21669                      NaT      0                 NaT      0   \n",
              "54843                      NaT      0                 NaT      0   \n",
              "77292      2013-01-12 08:50:16    784 2013-01-12 08:50:16    949   \n",
              "114021     2013-01-12 08:50:19    945 2013-01-12 08:50:19    946   \n",
              "146670     2013-01-12 08:50:21    951 2013-01-12 08:50:22    946   \n",
              "\n",
              "                         time9  site10              time10  \n",
              "session_id                                                  \n",
              "21669                      NaT       0                 NaT  \n",
              "54843                      NaT       0                 NaT  \n",
              "77292      2013-01-12 08:50:17     946 2013-01-12 08:50:17  \n",
              "114021     2013-01-12 08:50:19     946 2013-01-12 08:50:20  \n",
              "146670     2013-01-12 08:50:22     947 2013-01-12 08:50:22  "
            ],
            "text/html": [
              "\n",
              "  <div id=\"df-c3e67aa0-187e-4a67-9e2f-cf1b444996d3\">\n",
              "    <div class=\"colab-df-container\">\n",
              "      <div>\n",
              "<style scoped>\n",
              "    .dataframe tbody tr th:only-of-type {\n",
              "        vertical-align: middle;\n",
              "    }\n",
              "\n",
              "    .dataframe tbody tr th {\n",
              "        vertical-align: top;\n",
              "    }\n",
              "\n",
              "    .dataframe thead th {\n",
              "        text-align: right;\n",
              "    }\n",
              "</style>\n",
              "<table border=\"1\" class=\"dataframe\">\n",
              "  <thead>\n",
              "    <tr style=\"text-align: right;\">\n",
              "      <th></th>\n",
              "      <th>site1</th>\n",
              "      <th>time1</th>\n",
              "      <th>site2</th>\n",
              "      <th>time2</th>\n",
              "      <th>site3</th>\n",
              "      <th>time3</th>\n",
              "      <th>site4</th>\n",
              "      <th>time4</th>\n",
              "      <th>site5</th>\n",
              "      <th>time5</th>\n",
              "      <th>site6</th>\n",
              "      <th>time6</th>\n",
              "      <th>site7</th>\n",
              "      <th>time7</th>\n",
              "      <th>site8</th>\n",
              "      <th>time8</th>\n",
              "      <th>site9</th>\n",
              "      <th>time9</th>\n",
              "      <th>site10</th>\n",
              "      <th>time10</th>\n",
              "    </tr>\n",
              "    <tr>\n",
              "      <th>session_id</th>\n",
              "      <th></th>\n",
              "      <th></th>\n",
              "      <th></th>\n",
              "      <th></th>\n",
              "      <th></th>\n",
              "      <th></th>\n",
              "      <th></th>\n",
              "      <th></th>\n",
              "      <th></th>\n",
              "      <th></th>\n",
              "      <th></th>\n",
              "      <th></th>\n",
              "      <th></th>\n",
              "      <th></th>\n",
              "      <th></th>\n",
              "      <th></th>\n",
              "      <th></th>\n",
              "      <th></th>\n",
              "      <th></th>\n",
              "      <th></th>\n",
              "    </tr>\n",
              "  </thead>\n",
              "  <tbody>\n",
              "    <tr>\n",
              "      <th>21669</th>\n",
              "      <td>56</td>\n",
              "      <td>2013-01-12 08:05:57</td>\n",
              "      <td>55</td>\n",
              "      <td>2013-01-12 08:05:57</td>\n",
              "      <td>0</td>\n",
              "      <td>NaT</td>\n",
              "      <td>0</td>\n",
              "      <td>NaT</td>\n",
              "      <td>0</td>\n",
              "      <td>NaT</td>\n",
              "      <td>0</td>\n",
              "      <td>NaT</td>\n",
              "      <td>0</td>\n",
              "      <td>NaT</td>\n",
              "      <td>0</td>\n",
              "      <td>NaT</td>\n",
              "      <td>0</td>\n",
              "      <td>NaT</td>\n",
              "      <td>0</td>\n",
              "      <td>NaT</td>\n",
              "    </tr>\n",
              "    <tr>\n",
              "      <th>54843</th>\n",
              "      <td>56</td>\n",
              "      <td>2013-01-12 08:37:23</td>\n",
              "      <td>55</td>\n",
              "      <td>2013-01-12 08:37:23</td>\n",
              "      <td>56</td>\n",
              "      <td>2013-01-12 09:07:07</td>\n",
              "      <td>55</td>\n",
              "      <td>2013-01-12 09:07:09</td>\n",
              "      <td>0</td>\n",
              "      <td>NaT</td>\n",
              "      <td>0</td>\n",
              "      <td>NaT</td>\n",
              "      <td>0</td>\n",
              "      <td>NaT</td>\n",
              "      <td>0</td>\n",
              "      <td>NaT</td>\n",
              "      <td>0</td>\n",
              "      <td>NaT</td>\n",
              "      <td>0</td>\n",
              "      <td>NaT</td>\n",
              "    </tr>\n",
              "    <tr>\n",
              "      <th>77292</th>\n",
              "      <td>946</td>\n",
              "      <td>2013-01-12 08:50:13</td>\n",
              "      <td>946</td>\n",
              "      <td>2013-01-12 08:50:14</td>\n",
              "      <td>951</td>\n",
              "      <td>2013-01-12 08:50:15</td>\n",
              "      <td>946</td>\n",
              "      <td>2013-01-12 08:50:15</td>\n",
              "      <td>946</td>\n",
              "      <td>2013-01-12 08:50:16</td>\n",
              "      <td>945</td>\n",
              "      <td>2013-01-12 08:50:16</td>\n",
              "      <td>948</td>\n",
              "      <td>2013-01-12 08:50:16</td>\n",
              "      <td>784</td>\n",
              "      <td>2013-01-12 08:50:16</td>\n",
              "      <td>949</td>\n",
              "      <td>2013-01-12 08:50:17</td>\n",
              "      <td>946</td>\n",
              "      <td>2013-01-12 08:50:17</td>\n",
              "    </tr>\n",
              "    <tr>\n",
              "      <th>114021</th>\n",
              "      <td>945</td>\n",
              "      <td>2013-01-12 08:50:17</td>\n",
              "      <td>948</td>\n",
              "      <td>2013-01-12 08:50:17</td>\n",
              "      <td>949</td>\n",
              "      <td>2013-01-12 08:50:18</td>\n",
              "      <td>948</td>\n",
              "      <td>2013-01-12 08:50:18</td>\n",
              "      <td>945</td>\n",
              "      <td>2013-01-12 08:50:18</td>\n",
              "      <td>946</td>\n",
              "      <td>2013-01-12 08:50:18</td>\n",
              "      <td>947</td>\n",
              "      <td>2013-01-12 08:50:19</td>\n",
              "      <td>945</td>\n",
              "      <td>2013-01-12 08:50:19</td>\n",
              "      <td>946</td>\n",
              "      <td>2013-01-12 08:50:19</td>\n",
              "      <td>946</td>\n",
              "      <td>2013-01-12 08:50:20</td>\n",
              "    </tr>\n",
              "    <tr>\n",
              "      <th>146670</th>\n",
              "      <td>947</td>\n",
              "      <td>2013-01-12 08:50:20</td>\n",
              "      <td>950</td>\n",
              "      <td>2013-01-12 08:50:20</td>\n",
              "      <td>948</td>\n",
              "      <td>2013-01-12 08:50:20</td>\n",
              "      <td>947</td>\n",
              "      <td>2013-01-12 08:50:21</td>\n",
              "      <td>950</td>\n",
              "      <td>2013-01-12 08:50:21</td>\n",
              "      <td>952</td>\n",
              "      <td>2013-01-12 08:50:21</td>\n",
              "      <td>946</td>\n",
              "      <td>2013-01-12 08:50:21</td>\n",
              "      <td>951</td>\n",
              "      <td>2013-01-12 08:50:22</td>\n",
              "      <td>946</td>\n",
              "      <td>2013-01-12 08:50:22</td>\n",
              "      <td>947</td>\n",
              "      <td>2013-01-12 08:50:22</td>\n",
              "    </tr>\n",
              "  </tbody>\n",
              "</table>\n",
              "</div>\n",
              "      <button class=\"colab-df-convert\" onclick=\"convertToInteractive('df-c3e67aa0-187e-4a67-9e2f-cf1b444996d3')\"\n",
              "              title=\"Convert this dataframe to an interactive table.\"\n",
              "              style=\"display:none;\">\n",
              "        \n",
              "  <svg xmlns=\"http://www.w3.org/2000/svg\" height=\"24px\"viewBox=\"0 0 24 24\"\n",
              "       width=\"24px\">\n",
              "    <path d=\"M0 0h24v24H0V0z\" fill=\"none\"/>\n",
              "    <path d=\"M18.56 5.44l.94 2.06.94-2.06 2.06-.94-2.06-.94-.94-2.06-.94 2.06-2.06.94zm-11 1L8.5 8.5l.94-2.06 2.06-.94-2.06-.94L8.5 2.5l-.94 2.06-2.06.94zm10 10l.94 2.06.94-2.06 2.06-.94-2.06-.94-.94-2.06-.94 2.06-2.06.94z\"/><path d=\"M17.41 7.96l-1.37-1.37c-.4-.4-.92-.59-1.43-.59-.52 0-1.04.2-1.43.59L10.3 9.45l-7.72 7.72c-.78.78-.78 2.05 0 2.83L4 21.41c.39.39.9.59 1.41.59.51 0 1.02-.2 1.41-.59l7.78-7.78 2.81-2.81c.8-.78.8-2.07 0-2.86zM5.41 20L4 18.59l7.72-7.72 1.47 1.35L5.41 20z\"/>\n",
              "  </svg>\n",
              "      </button>\n",
              "      \n",
              "  <style>\n",
              "    .colab-df-container {\n",
              "      display:flex;\n",
              "      flex-wrap:wrap;\n",
              "      gap: 12px;\n",
              "    }\n",
              "\n",
              "    .colab-df-convert {\n",
              "      background-color: #E8F0FE;\n",
              "      border: none;\n",
              "      border-radius: 50%;\n",
              "      cursor: pointer;\n",
              "      display: none;\n",
              "      fill: #1967D2;\n",
              "      height: 32px;\n",
              "      padding: 0 0 0 0;\n",
              "      width: 32px;\n",
              "    }\n",
              "\n",
              "    .colab-df-convert:hover {\n",
              "      background-color: #E2EBFA;\n",
              "      box-shadow: 0px 1px 2px rgba(60, 64, 67, 0.3), 0px 1px 3px 1px rgba(60, 64, 67, 0.15);\n",
              "      fill: #174EA6;\n",
              "    }\n",
              "\n",
              "    [theme=dark] .colab-df-convert {\n",
              "      background-color: #3B4455;\n",
              "      fill: #D2E3FC;\n",
              "    }\n",
              "\n",
              "    [theme=dark] .colab-df-convert:hover {\n",
              "      background-color: #434B5C;\n",
              "      box-shadow: 0px 1px 3px 1px rgba(0, 0, 0, 0.15);\n",
              "      filter: drop-shadow(0px 1px 2px rgba(0, 0, 0, 0.3));\n",
              "      fill: #FFFFFF;\n",
              "    }\n",
              "  </style>\n",
              "\n",
              "      <script>\n",
              "        const buttonEl =\n",
              "          document.querySelector('#df-c3e67aa0-187e-4a67-9e2f-cf1b444996d3 button.colab-df-convert');\n",
              "        buttonEl.style.display =\n",
              "          google.colab.kernel.accessAllowed ? 'block' : 'none';\n",
              "\n",
              "        async function convertToInteractive(key) {\n",
              "          const element = document.querySelector('#df-c3e67aa0-187e-4a67-9e2f-cf1b444996d3');\n",
              "          const dataTable =\n",
              "            await google.colab.kernel.invokeFunction('convertToInteractive',\n",
              "                                                     [key], {});\n",
              "          if (!dataTable) return;\n",
              "\n",
              "          const docLinkHtml = 'Like what you see? Visit the ' +\n",
              "            '<a target=\"_blank\" href=https://colab.research.google.com/notebooks/data_table.ipynb>data table notebook</a>'\n",
              "            + ' to learn more about interactive tables.';\n",
              "          element.innerHTML = '';\n",
              "          dataTable['output_type'] = 'display_data';\n",
              "          await google.colab.output.renderOutput(dataTable, element);\n",
              "          const docLink = document.createElement('div');\n",
              "          docLink.innerHTML = docLinkHtml;\n",
              "          element.appendChild(docLink);\n",
              "        }\n",
              "      </script>\n",
              "    </div>\n",
              "  </div>\n",
              "  "
            ]
          },
          "metadata": {},
          "execution_count": 6
        }
      ]
    },
    {
      "cell_type": "code",
      "metadata": {
        "id": "N-9k58HKBSKW",
        "ExecuteTime": {
          "start_time": "2018-03-30T18:49:38.86919Z",
          "end_time": "2018-03-30T18:49:39.005763Z"
        },
        "_uuid": "e10bdaeda46796dae4a37f91d68e486ed1fea623",
        "_cell_guid": "9087a991-7fee-4567-b158-46b7ea849156",
        "trusted": false,
        "outputId": "591d71f1-1583-4f5f-b7e3-773484b89d43",
        "colab": {
          "base_uri": "https://localhost:8080/",
          "height": 175
        }
      },
      "source": [
        " #выбираем только колонки с сайтами \n",
        "full_sites = full_df[sites]\n",
        "full_sites.head(3)"
      ],
      "execution_count": null,
      "outputs": [
        {
          "output_type": "execute_result",
          "data": {
            "text/plain": [
              "            site1  site2  site3  site4  site5  site6  site7  site8  site9  \\\n",
              "session_id                                                                  \n",
              "21669          56     55      0      0      0      0      0      0      0   \n",
              "54843          56     55     56     55      0      0      0      0      0   \n",
              "77292         946    946    951    946    946    945    948    784    949   \n",
              "\n",
              "            site10  \n",
              "session_id          \n",
              "21669            0  \n",
              "54843            0  \n",
              "77292          946  "
            ],
            "text/html": [
              "\n",
              "  <div id=\"df-0ae3c486-4a74-44aa-a557-f876c0b6a966\">\n",
              "    <div class=\"colab-df-container\">\n",
              "      <div>\n",
              "<style scoped>\n",
              "    .dataframe tbody tr th:only-of-type {\n",
              "        vertical-align: middle;\n",
              "    }\n",
              "\n",
              "    .dataframe tbody tr th {\n",
              "        vertical-align: top;\n",
              "    }\n",
              "\n",
              "    .dataframe thead th {\n",
              "        text-align: right;\n",
              "    }\n",
              "</style>\n",
              "<table border=\"1\" class=\"dataframe\">\n",
              "  <thead>\n",
              "    <tr style=\"text-align: right;\">\n",
              "      <th></th>\n",
              "      <th>site1</th>\n",
              "      <th>site2</th>\n",
              "      <th>site3</th>\n",
              "      <th>site4</th>\n",
              "      <th>site5</th>\n",
              "      <th>site6</th>\n",
              "      <th>site7</th>\n",
              "      <th>site8</th>\n",
              "      <th>site9</th>\n",
              "      <th>site10</th>\n",
              "    </tr>\n",
              "    <tr>\n",
              "      <th>session_id</th>\n",
              "      <th></th>\n",
              "      <th></th>\n",
              "      <th></th>\n",
              "      <th></th>\n",
              "      <th></th>\n",
              "      <th></th>\n",
              "      <th></th>\n",
              "      <th></th>\n",
              "      <th></th>\n",
              "      <th></th>\n",
              "    </tr>\n",
              "  </thead>\n",
              "  <tbody>\n",
              "    <tr>\n",
              "      <th>21669</th>\n",
              "      <td>56</td>\n",
              "      <td>55</td>\n",
              "      <td>0</td>\n",
              "      <td>0</td>\n",
              "      <td>0</td>\n",
              "      <td>0</td>\n",
              "      <td>0</td>\n",
              "      <td>0</td>\n",
              "      <td>0</td>\n",
              "      <td>0</td>\n",
              "    </tr>\n",
              "    <tr>\n",
              "      <th>54843</th>\n",
              "      <td>56</td>\n",
              "      <td>55</td>\n",
              "      <td>56</td>\n",
              "      <td>55</td>\n",
              "      <td>0</td>\n",
              "      <td>0</td>\n",
              "      <td>0</td>\n",
              "      <td>0</td>\n",
              "      <td>0</td>\n",
              "      <td>0</td>\n",
              "    </tr>\n",
              "    <tr>\n",
              "      <th>77292</th>\n",
              "      <td>946</td>\n",
              "      <td>946</td>\n",
              "      <td>951</td>\n",
              "      <td>946</td>\n",
              "      <td>946</td>\n",
              "      <td>945</td>\n",
              "      <td>948</td>\n",
              "      <td>784</td>\n",
              "      <td>949</td>\n",
              "      <td>946</td>\n",
              "    </tr>\n",
              "  </tbody>\n",
              "</table>\n",
              "</div>\n",
              "      <button class=\"colab-df-convert\" onclick=\"convertToInteractive('df-0ae3c486-4a74-44aa-a557-f876c0b6a966')\"\n",
              "              title=\"Convert this dataframe to an interactive table.\"\n",
              "              style=\"display:none;\">\n",
              "        \n",
              "  <svg xmlns=\"http://www.w3.org/2000/svg\" height=\"24px\"viewBox=\"0 0 24 24\"\n",
              "       width=\"24px\">\n",
              "    <path d=\"M0 0h24v24H0V0z\" fill=\"none\"/>\n",
              "    <path d=\"M18.56 5.44l.94 2.06.94-2.06 2.06-.94-2.06-.94-.94-2.06-.94 2.06-2.06.94zm-11 1L8.5 8.5l.94-2.06 2.06-.94-2.06-.94L8.5 2.5l-.94 2.06-2.06.94zm10 10l.94 2.06.94-2.06 2.06-.94-2.06-.94-.94-2.06-.94 2.06-2.06.94z\"/><path d=\"M17.41 7.96l-1.37-1.37c-.4-.4-.92-.59-1.43-.59-.52 0-1.04.2-1.43.59L10.3 9.45l-7.72 7.72c-.78.78-.78 2.05 0 2.83L4 21.41c.39.39.9.59 1.41.59.51 0 1.02-.2 1.41-.59l7.78-7.78 2.81-2.81c.8-.78.8-2.07 0-2.86zM5.41 20L4 18.59l7.72-7.72 1.47 1.35L5.41 20z\"/>\n",
              "  </svg>\n",
              "      </button>\n",
              "      \n",
              "  <style>\n",
              "    .colab-df-container {\n",
              "      display:flex;\n",
              "      flex-wrap:wrap;\n",
              "      gap: 12px;\n",
              "    }\n",
              "\n",
              "    .colab-df-convert {\n",
              "      background-color: #E8F0FE;\n",
              "      border: none;\n",
              "      border-radius: 50%;\n",
              "      cursor: pointer;\n",
              "      display: none;\n",
              "      fill: #1967D2;\n",
              "      height: 32px;\n",
              "      padding: 0 0 0 0;\n",
              "      width: 32px;\n",
              "    }\n",
              "\n",
              "    .colab-df-convert:hover {\n",
              "      background-color: #E2EBFA;\n",
              "      box-shadow: 0px 1px 2px rgba(60, 64, 67, 0.3), 0px 1px 3px 1px rgba(60, 64, 67, 0.15);\n",
              "      fill: #174EA6;\n",
              "    }\n",
              "\n",
              "    [theme=dark] .colab-df-convert {\n",
              "      background-color: #3B4455;\n",
              "      fill: #D2E3FC;\n",
              "    }\n",
              "\n",
              "    [theme=dark] .colab-df-convert:hover {\n",
              "      background-color: #434B5C;\n",
              "      box-shadow: 0px 1px 3px 1px rgba(0, 0, 0, 0.15);\n",
              "      filter: drop-shadow(0px 1px 2px rgba(0, 0, 0, 0.3));\n",
              "      fill: #FFFFFF;\n",
              "    }\n",
              "  </style>\n",
              "\n",
              "      <script>\n",
              "        const buttonEl =\n",
              "          document.querySelector('#df-0ae3c486-4a74-44aa-a557-f876c0b6a966 button.colab-df-convert');\n",
              "        buttonEl.style.display =\n",
              "          google.colab.kernel.accessAllowed ? 'block' : 'none';\n",
              "\n",
              "        async function convertToInteractive(key) {\n",
              "          const element = document.querySelector('#df-0ae3c486-4a74-44aa-a557-f876c0b6a966');\n",
              "          const dataTable =\n",
              "            await google.colab.kernel.invokeFunction('convertToInteractive',\n",
              "                                                     [key], {});\n",
              "          if (!dataTable) return;\n",
              "\n",
              "          const docLinkHtml = 'Like what you see? Visit the ' +\n",
              "            '<a target=\"_blank\" href=https://colab.research.google.com/notebooks/data_table.ipynb>data table notebook</a>'\n",
              "            + ' to learn more about interactive tables.';\n",
              "          element.innerHTML = '';\n",
              "          dataTable['output_type'] = 'display_data';\n",
              "          await google.colab.output.renderOutput(dataTable, element);\n",
              "          const docLink = document.createElement('div');\n",
              "          docLink.innerHTML = docLinkHtml;\n",
              "          element.appendChild(docLink);\n",
              "        }\n",
              "      </script>\n",
              "    </div>\n",
              "  </div>\n",
              "  "
            ]
          },
          "metadata": {},
          "execution_count": 58
        }
      ]
    },
    {
      "cell_type": "markdown",
      "source": [
        "##Countvectorizer — это метод преобразования текста в числовые данные"
      ],
      "metadata": {
        "id": "xMP9LhVbMwua"
      }
    },
    {
      "cell_type": "markdown",
      "source": [
        "https://towardsdatascience.com/basics-of-countvectorizer-e26677900f9c"
      ],
      "metadata": {
        "id": "EmS0WppcM67f"
      }
    },
    {
      "cell_type": "markdown",
      "source": [
        "Проанализируем количество повторений каждого сайта "
      ],
      "metadata": {
        "id": "PEJIOhdPMZZE"
      }
    },
    {
      "cell_type": "code",
      "source": [
        "#преобразуем все сайты к строковому типу и сделаем из них список \n",
        "full_sites = full_sites.astype('str')\n",
        "lst = full_sites[sites].to_numpy().tolist()\n",
        "#все номера сайтов в одну строку списком \n",
        "flat_list = [' '.join(sublist) for sublist in lst]"
      ],
      "metadata": {
        "id": "u6ADAIwbL3_5"
      },
      "execution_count": null,
      "outputs": []
    },
    {
      "cell_type": "code",
      "metadata": {
        "_uuid": "538e3d08172d5e7cc2e230b8d0be9a3a27dfd771",
        "_cell_guid": "ae687afc-94c2-4ff8-93b0-748440f64019",
        "ExecuteTime": {
          "start_time": "2018-03-30T18:51:12.990795Z",
          "end_time": "2018-03-30T18:51:44.928485Z"
        },
        "trusted": false,
        "id": "AmdZd-lXqsSE"
      },
      "source": [
        "#  max_features=50000 - количество самых рапространенных слов, которые выберет алгоритм \n",
        "# ngram_range=(1, 3) - 1 это минимальный размер текстовой ячейки, 3 - максимальный размер \n",
        "cv = CountVectorizer(ngram_range=(1, 3), max_features=50000)\n",
        "sites_matrix = cv.fit_transform(flat_list)"
      ],
      "execution_count": null,
      "outputs": []
    },
    {
      "cell_type": "code",
      "source": [
        "# Разделяем обратно на трэйн и тест\n",
        "train_sites_matrix = sites_matrix[:idx_split]\n",
        "test_sites_matrix  = sites_matrix[idx_split:]\n",
        "\n",
        "print(f\"train_sites_matrix shape: {train_sites_matrix.shape}, test_sites_matrix shape: {test_sites_matrix.shape}\")\n",
        "\n",
        "# cv.get_feature_names()[:10]"
      ],
      "metadata": {
        "colab": {
          "base_uri": "https://localhost:8080/"
        },
        "id": "O198m_g8QvVv",
        "outputId": "fe8e45f9-3542-40e9-b89b-8f1438f66941"
      },
      "execution_count": null,
      "outputs": [
        {
          "output_type": "stream",
          "name": "stdout",
          "text": [
            "train_sites_matrix shape: (253561, 50000), test_sites_matrix shape: (82797, 50000)\n"
          ]
        },
        {
          "output_type": "stream",
          "name": "stderr",
          "text": [
            "/usr/local/lib/python3.8/dist-packages/sklearn/utils/deprecation.py:87: FutureWarning: Function get_feature_names is deprecated; get_feature_names is deprecated in 1.0 and will be removed in 1.2. Please use get_feature_names_out instead.\n",
            "  warnings.warn(msg, category=FutureWarning)\n"
          ]
        },
        {
          "output_type": "execute_result",
          "data": {
            "text/plain": [
              "['10',\n",
              " '10 1086',\n",
              " '10 11',\n",
              " '10 11 12',\n",
              " '10 11 14',\n",
              " '10 11 15',\n",
              " '10 11241',\n",
              " '10 1199',\n",
              " '10 12',\n",
              " '10 1200']"
            ]
          },
          "metadata": {},
          "execution_count": 71
        }
      ]
    },
    {
      "cell_type": "code",
      "metadata": {
        "_uuid": "e521192fa55e8ac67ae2078fac05cb944a7b4c38",
        "_cell_guid": "2546b547-aa95-4064-b432-fb580bb22d3c",
        "ExecuteTime": {
          "start_time": "2018-03-30T18:49:53.538479Z",
          "end_time": "2018-03-30T18:49:53.566419Z"
        },
        "trusted": false,
        "id": "kDI4KXqTqsSH",
        "outputId": "bbd9e298-07bd-467b-d7a5-4a8fffed7b7e",
        "colab": {
          "base_uri": "https://localhost:8080/",
          "height": 271
        }
      },
      "source": [
        "#выбираем все колонки со временем\n",
        "full_time = full_df[times] \n",
        "full_time.head(3)"
      ],
      "execution_count": null,
      "outputs": [
        {
          "output_type": "execute_result",
          "data": {
            "text/plain": [
              "                         time1               time2               time3  \\\n",
              "session_id                                                               \n",
              "21669      2013-01-12 08:05:57 2013-01-12 08:05:57                 NaT   \n",
              "54843      2013-01-12 08:37:23 2013-01-12 08:37:23 2013-01-12 09:07:07   \n",
              "77292      2013-01-12 08:50:13 2013-01-12 08:50:14 2013-01-12 08:50:15   \n",
              "\n",
              "                         time4               time5               time6  \\\n",
              "session_id                                                               \n",
              "21669                      NaT                 NaT                 NaT   \n",
              "54843      2013-01-12 09:07:09                 NaT                 NaT   \n",
              "77292      2013-01-12 08:50:15 2013-01-12 08:50:16 2013-01-12 08:50:16   \n",
              "\n",
              "                         time7               time8               time9  \\\n",
              "session_id                                                               \n",
              "21669                      NaT                 NaT                 NaT   \n",
              "54843                      NaT                 NaT                 NaT   \n",
              "77292      2013-01-12 08:50:16 2013-01-12 08:50:16 2013-01-12 08:50:17   \n",
              "\n",
              "                        time10  \n",
              "session_id                      \n",
              "21669                      NaT  \n",
              "54843                      NaT  \n",
              "77292      2013-01-12 08:50:17  "
            ],
            "text/html": [
              "\n",
              "  <div id=\"df-a34161f2-730a-474e-89d3-b96d216f07bb\">\n",
              "    <div class=\"colab-df-container\">\n",
              "      <div>\n",
              "<style scoped>\n",
              "    .dataframe tbody tr th:only-of-type {\n",
              "        vertical-align: middle;\n",
              "    }\n",
              "\n",
              "    .dataframe tbody tr th {\n",
              "        vertical-align: top;\n",
              "    }\n",
              "\n",
              "    .dataframe thead th {\n",
              "        text-align: right;\n",
              "    }\n",
              "</style>\n",
              "<table border=\"1\" class=\"dataframe\">\n",
              "  <thead>\n",
              "    <tr style=\"text-align: right;\">\n",
              "      <th></th>\n",
              "      <th>time1</th>\n",
              "      <th>time2</th>\n",
              "      <th>time3</th>\n",
              "      <th>time4</th>\n",
              "      <th>time5</th>\n",
              "      <th>time6</th>\n",
              "      <th>time7</th>\n",
              "      <th>time8</th>\n",
              "      <th>time9</th>\n",
              "      <th>time10</th>\n",
              "    </tr>\n",
              "    <tr>\n",
              "      <th>session_id</th>\n",
              "      <th></th>\n",
              "      <th></th>\n",
              "      <th></th>\n",
              "      <th></th>\n",
              "      <th></th>\n",
              "      <th></th>\n",
              "      <th></th>\n",
              "      <th></th>\n",
              "      <th></th>\n",
              "      <th></th>\n",
              "    </tr>\n",
              "  </thead>\n",
              "  <tbody>\n",
              "    <tr>\n",
              "      <th>21669</th>\n",
              "      <td>2013-01-12 08:05:57</td>\n",
              "      <td>2013-01-12 08:05:57</td>\n",
              "      <td>NaT</td>\n",
              "      <td>NaT</td>\n",
              "      <td>NaT</td>\n",
              "      <td>NaT</td>\n",
              "      <td>NaT</td>\n",
              "      <td>NaT</td>\n",
              "      <td>NaT</td>\n",
              "      <td>NaT</td>\n",
              "    </tr>\n",
              "    <tr>\n",
              "      <th>54843</th>\n",
              "      <td>2013-01-12 08:37:23</td>\n",
              "      <td>2013-01-12 08:37:23</td>\n",
              "      <td>2013-01-12 09:07:07</td>\n",
              "      <td>2013-01-12 09:07:09</td>\n",
              "      <td>NaT</td>\n",
              "      <td>NaT</td>\n",
              "      <td>NaT</td>\n",
              "      <td>NaT</td>\n",
              "      <td>NaT</td>\n",
              "      <td>NaT</td>\n",
              "    </tr>\n",
              "    <tr>\n",
              "      <th>77292</th>\n",
              "      <td>2013-01-12 08:50:13</td>\n",
              "      <td>2013-01-12 08:50:14</td>\n",
              "      <td>2013-01-12 08:50:15</td>\n",
              "      <td>2013-01-12 08:50:15</td>\n",
              "      <td>2013-01-12 08:50:16</td>\n",
              "      <td>2013-01-12 08:50:16</td>\n",
              "      <td>2013-01-12 08:50:16</td>\n",
              "      <td>2013-01-12 08:50:16</td>\n",
              "      <td>2013-01-12 08:50:17</td>\n",
              "      <td>2013-01-12 08:50:17</td>\n",
              "    </tr>\n",
              "  </tbody>\n",
              "</table>\n",
              "</div>\n",
              "      <button class=\"colab-df-convert\" onclick=\"convertToInteractive('df-a34161f2-730a-474e-89d3-b96d216f07bb')\"\n",
              "              title=\"Convert this dataframe to an interactive table.\"\n",
              "              style=\"display:none;\">\n",
              "        \n",
              "  <svg xmlns=\"http://www.w3.org/2000/svg\" height=\"24px\"viewBox=\"0 0 24 24\"\n",
              "       width=\"24px\">\n",
              "    <path d=\"M0 0h24v24H0V0z\" fill=\"none\"/>\n",
              "    <path d=\"M18.56 5.44l.94 2.06.94-2.06 2.06-.94-2.06-.94-.94-2.06-.94 2.06-2.06.94zm-11 1L8.5 8.5l.94-2.06 2.06-.94-2.06-.94L8.5 2.5l-.94 2.06-2.06.94zm10 10l.94 2.06.94-2.06 2.06-.94-2.06-.94-.94-2.06-.94 2.06-2.06.94z\"/><path d=\"M17.41 7.96l-1.37-1.37c-.4-.4-.92-.59-1.43-.59-.52 0-1.04.2-1.43.59L10.3 9.45l-7.72 7.72c-.78.78-.78 2.05 0 2.83L4 21.41c.39.39.9.59 1.41.59.51 0 1.02-.2 1.41-.59l7.78-7.78 2.81-2.81c.8-.78.8-2.07 0-2.86zM5.41 20L4 18.59l7.72-7.72 1.47 1.35L5.41 20z\"/>\n",
              "  </svg>\n",
              "      </button>\n",
              "      \n",
              "  <style>\n",
              "    .colab-df-container {\n",
              "      display:flex;\n",
              "      flex-wrap:wrap;\n",
              "      gap: 12px;\n",
              "    }\n",
              "\n",
              "    .colab-df-convert {\n",
              "      background-color: #E8F0FE;\n",
              "      border: none;\n",
              "      border-radius: 50%;\n",
              "      cursor: pointer;\n",
              "      display: none;\n",
              "      fill: #1967D2;\n",
              "      height: 32px;\n",
              "      padding: 0 0 0 0;\n",
              "      width: 32px;\n",
              "    }\n",
              "\n",
              "    .colab-df-convert:hover {\n",
              "      background-color: #E2EBFA;\n",
              "      box-shadow: 0px 1px 2px rgba(60, 64, 67, 0.3), 0px 1px 3px 1px rgba(60, 64, 67, 0.15);\n",
              "      fill: #174EA6;\n",
              "    }\n",
              "\n",
              "    [theme=dark] .colab-df-convert {\n",
              "      background-color: #3B4455;\n",
              "      fill: #D2E3FC;\n",
              "    }\n",
              "\n",
              "    [theme=dark] .colab-df-convert:hover {\n",
              "      background-color: #434B5C;\n",
              "      box-shadow: 0px 1px 3px 1px rgba(0, 0, 0, 0.15);\n",
              "      filter: drop-shadow(0px 1px 2px rgba(0, 0, 0, 0.3));\n",
              "      fill: #FFFFFF;\n",
              "    }\n",
              "  </style>\n",
              "\n",
              "      <script>\n",
              "        const buttonEl =\n",
              "          document.querySelector('#df-a34161f2-730a-474e-89d3-b96d216f07bb button.colab-df-convert');\n",
              "        buttonEl.style.display =\n",
              "          google.colab.kernel.accessAllowed ? 'block' : 'none';\n",
              "\n",
              "        async function convertToInteractive(key) {\n",
              "          const element = document.querySelector('#df-a34161f2-730a-474e-89d3-b96d216f07bb');\n",
              "          const dataTable =\n",
              "            await google.colab.kernel.invokeFunction('convertToInteractive',\n",
              "                                                     [key], {});\n",
              "          if (!dataTable) return;\n",
              "\n",
              "          const docLinkHtml = 'Like what you see? Visit the ' +\n",
              "            '<a target=\"_blank\" href=https://colab.research.google.com/notebooks/data_table.ipynb>data table notebook</a>'\n",
              "            + ' to learn more about interactive tables.';\n",
              "          element.innerHTML = '';\n",
              "          dataTable['output_type'] = 'display_data';\n",
              "          await google.colab.output.renderOutput(dataTable, element);\n",
              "          const docLink = document.createElement('div');\n",
              "          docLink.innerHTML = docLinkHtml;\n",
              "          element.appendChild(docLink);\n",
              "        }\n",
              "      </script>\n",
              "    </div>\n",
              "  </div>\n",
              "  "
            ]
          },
          "metadata": {},
          "execution_count": 10
        }
      ]
    },
    {
      "cell_type": "code",
      "metadata": {
        "id": "ewb9jnR1qsSL"
      },
      "source": [
        "# функция для делелния на периоды по времени \n",
        "def add_features(time_df):\n",
        "    start_hour = time_df['time1'].apply(lambda ts: ts.hour)\n",
        "    # содали новый датафрэйм где индексы id пользователей, значениям - начало сессии\n",
        "    additional_data_df = pd.DataFrame(data=start_hour.values, columns=['start_hour'], index=start_hour.index)\n",
        "    additional_data_df['morning'] = ((start_hour >= 7) & (start_hour <= 11)).astype('int').values.reshape(-1, 1)\n",
        "    additional_data_df['midday'] = ((start_hour >= 12) & (start_hour <= 18)).astype('int').values.reshape(-1, 1)\n",
        "    additional_data_df['evening'] = ((start_hour >= 19) & (start_hour <= 23)).astype('int').values.reshape(-1, 1)\n",
        "    additional_data_df['night'] = ((start_hour >= 0) & (start_hour <= 6)).astype('int').values.reshape(-1, 1)\n",
        "    additional_data_df['sess_duration'] = (time_df.max(axis=1) - time_df.min(axis=1)).astype('timedelta64[s]')\\\n",
        "\t\t   .astype('int').values.reshape(-1, 1)\n",
        "    additional_data_df['day_of_week'] = time_df['time1'].apply(lambda t: t.weekday()).values.reshape(-1, 1)\n",
        "    additional_data_df['month'] = time_df['time1'].apply(lambda t: t.month).values.reshape(-1, 1) \n",
        "    return additional_data_df"
      ],
      "execution_count": null,
      "outputs": []
    },
    {
      "cell_type": "markdown",
      "metadata": {
        "id": "vBiwJ_igqsSO"
      },
      "source": [
        "## **Categorical quantitative features**\n",
        "\n",
        "* **Categorical variables** take category or label values and place an individual into one of several groups   \n",
        "  Each observation can be placed in only one category, and the categories are mutually exclusive. \n",
        "* **Quantitative variables** take numerical values and represent some kind of measurement. "
      ]
    },
    {
      "cell_type": "code",
      "metadata": {
        "id": "SuIhe1VPqsSP",
        "outputId": "ce3aad78-e9ce-4414-af20-504367cbf27c",
        "colab": {
          "base_uri": "https://localhost:8080/",
          "height": 255
        }
      },
      "source": [
        "additional_data_df = add_features(full_time)\n",
        "print(additional_data_df.shape)\n",
        "additional_data_df.head(5)"
      ],
      "execution_count": null,
      "outputs": [
        {
          "output_type": "stream",
          "name": "stdout",
          "text": [
            "(336358, 8)\n"
          ]
        },
        {
          "output_type": "execute_result",
          "data": {
            "text/plain": [
              "            start_hour  morning  midday  evening  night  sess_duration  \\\n",
              "session_id                                                               \n",
              "21669                8        1       0        0      0              0   \n",
              "54843                8        1       0        0      0           1786   \n",
              "77292                8        1       0        0      0              4   \n",
              "114021               8        1       0        0      0              3   \n",
              "146670               8        1       0        0      0              2   \n",
              "\n",
              "            day_of_week  month  \n",
              "session_id                      \n",
              "21669                 5      1  \n",
              "54843                 5      1  \n",
              "77292                 5      1  \n",
              "114021                5      1  \n",
              "146670                5      1  "
            ],
            "text/html": [
              "\n",
              "  <div id=\"df-41797f79-e353-4910-bca8-941eba3b1836\">\n",
              "    <div class=\"colab-df-container\">\n",
              "      <div>\n",
              "<style scoped>\n",
              "    .dataframe tbody tr th:only-of-type {\n",
              "        vertical-align: middle;\n",
              "    }\n",
              "\n",
              "    .dataframe tbody tr th {\n",
              "        vertical-align: top;\n",
              "    }\n",
              "\n",
              "    .dataframe thead th {\n",
              "        text-align: right;\n",
              "    }\n",
              "</style>\n",
              "<table border=\"1\" class=\"dataframe\">\n",
              "  <thead>\n",
              "    <tr style=\"text-align: right;\">\n",
              "      <th></th>\n",
              "      <th>start_hour</th>\n",
              "      <th>morning</th>\n",
              "      <th>midday</th>\n",
              "      <th>evening</th>\n",
              "      <th>night</th>\n",
              "      <th>sess_duration</th>\n",
              "      <th>day_of_week</th>\n",
              "      <th>month</th>\n",
              "    </tr>\n",
              "    <tr>\n",
              "      <th>session_id</th>\n",
              "      <th></th>\n",
              "      <th></th>\n",
              "      <th></th>\n",
              "      <th></th>\n",
              "      <th></th>\n",
              "      <th></th>\n",
              "      <th></th>\n",
              "      <th></th>\n",
              "    </tr>\n",
              "  </thead>\n",
              "  <tbody>\n",
              "    <tr>\n",
              "      <th>21669</th>\n",
              "      <td>8</td>\n",
              "      <td>1</td>\n",
              "      <td>0</td>\n",
              "      <td>0</td>\n",
              "      <td>0</td>\n",
              "      <td>0</td>\n",
              "      <td>5</td>\n",
              "      <td>1</td>\n",
              "    </tr>\n",
              "    <tr>\n",
              "      <th>54843</th>\n",
              "      <td>8</td>\n",
              "      <td>1</td>\n",
              "      <td>0</td>\n",
              "      <td>0</td>\n",
              "      <td>0</td>\n",
              "      <td>1786</td>\n",
              "      <td>5</td>\n",
              "      <td>1</td>\n",
              "    </tr>\n",
              "    <tr>\n",
              "      <th>77292</th>\n",
              "      <td>8</td>\n",
              "      <td>1</td>\n",
              "      <td>0</td>\n",
              "      <td>0</td>\n",
              "      <td>0</td>\n",
              "      <td>4</td>\n",
              "      <td>5</td>\n",
              "      <td>1</td>\n",
              "    </tr>\n",
              "    <tr>\n",
              "      <th>114021</th>\n",
              "      <td>8</td>\n",
              "      <td>1</td>\n",
              "      <td>0</td>\n",
              "      <td>0</td>\n",
              "      <td>0</td>\n",
              "      <td>3</td>\n",
              "      <td>5</td>\n",
              "      <td>1</td>\n",
              "    </tr>\n",
              "    <tr>\n",
              "      <th>146670</th>\n",
              "      <td>8</td>\n",
              "      <td>1</td>\n",
              "      <td>0</td>\n",
              "      <td>0</td>\n",
              "      <td>0</td>\n",
              "      <td>2</td>\n",
              "      <td>5</td>\n",
              "      <td>1</td>\n",
              "    </tr>\n",
              "  </tbody>\n",
              "</table>\n",
              "</div>\n",
              "      <button class=\"colab-df-convert\" onclick=\"convertToInteractive('df-41797f79-e353-4910-bca8-941eba3b1836')\"\n",
              "              title=\"Convert this dataframe to an interactive table.\"\n",
              "              style=\"display:none;\">\n",
              "        \n",
              "  <svg xmlns=\"http://www.w3.org/2000/svg\" height=\"24px\"viewBox=\"0 0 24 24\"\n",
              "       width=\"24px\">\n",
              "    <path d=\"M0 0h24v24H0V0z\" fill=\"none\"/>\n",
              "    <path d=\"M18.56 5.44l.94 2.06.94-2.06 2.06-.94-2.06-.94-.94-2.06-.94 2.06-2.06.94zm-11 1L8.5 8.5l.94-2.06 2.06-.94-2.06-.94L8.5 2.5l-.94 2.06-2.06.94zm10 10l.94 2.06.94-2.06 2.06-.94-2.06-.94-.94-2.06-.94 2.06-2.06.94z\"/><path d=\"M17.41 7.96l-1.37-1.37c-.4-.4-.92-.59-1.43-.59-.52 0-1.04.2-1.43.59L10.3 9.45l-7.72 7.72c-.78.78-.78 2.05 0 2.83L4 21.41c.39.39.9.59 1.41.59.51 0 1.02-.2 1.41-.59l7.78-7.78 2.81-2.81c.8-.78.8-2.07 0-2.86zM5.41 20L4 18.59l7.72-7.72 1.47 1.35L5.41 20z\"/>\n",
              "  </svg>\n",
              "      </button>\n",
              "      \n",
              "  <style>\n",
              "    .colab-df-container {\n",
              "      display:flex;\n",
              "      flex-wrap:wrap;\n",
              "      gap: 12px;\n",
              "    }\n",
              "\n",
              "    .colab-df-convert {\n",
              "      background-color: #E8F0FE;\n",
              "      border: none;\n",
              "      border-radius: 50%;\n",
              "      cursor: pointer;\n",
              "      display: none;\n",
              "      fill: #1967D2;\n",
              "      height: 32px;\n",
              "      padding: 0 0 0 0;\n",
              "      width: 32px;\n",
              "    }\n",
              "\n",
              "    .colab-df-convert:hover {\n",
              "      background-color: #E2EBFA;\n",
              "      box-shadow: 0px 1px 2px rgba(60, 64, 67, 0.3), 0px 1px 3px 1px rgba(60, 64, 67, 0.15);\n",
              "      fill: #174EA6;\n",
              "    }\n",
              "\n",
              "    [theme=dark] .colab-df-convert {\n",
              "      background-color: #3B4455;\n",
              "      fill: #D2E3FC;\n",
              "    }\n",
              "\n",
              "    [theme=dark] .colab-df-convert:hover {\n",
              "      background-color: #434B5C;\n",
              "      box-shadow: 0px 1px 3px 1px rgba(0, 0, 0, 0.15);\n",
              "      filter: drop-shadow(0px 1px 2px rgba(0, 0, 0, 0.3));\n",
              "      fill: #FFFFFF;\n",
              "    }\n",
              "  </style>\n",
              "\n",
              "      <script>\n",
              "        const buttonEl =\n",
              "          document.querySelector('#df-41797f79-e353-4910-bca8-941eba3b1836 button.colab-df-convert');\n",
              "        buttonEl.style.display =\n",
              "          google.colab.kernel.accessAllowed ? 'block' : 'none';\n",
              "\n",
              "        async function convertToInteractive(key) {\n",
              "          const element = document.querySelector('#df-41797f79-e353-4910-bca8-941eba3b1836');\n",
              "          const dataTable =\n",
              "            await google.colab.kernel.invokeFunction('convertToInteractive',\n",
              "                                                     [key], {});\n",
              "          if (!dataTable) return;\n",
              "\n",
              "          const docLinkHtml = 'Like what you see? Visit the ' +\n",
              "            '<a target=\"_blank\" href=https://colab.research.google.com/notebooks/data_table.ipynb>data table notebook</a>'\n",
              "            + ' to learn more about interactive tables.';\n",
              "          element.innerHTML = '';\n",
              "          dataTable['output_type'] = 'display_data';\n",
              "          await google.colab.output.renderOutput(dataTable, element);\n",
              "          const docLink = document.createElement('div');\n",
              "          docLink.innerHTML = docLinkHtml;\n",
              "          element.appendChild(docLink);\n",
              "        }\n",
              "      </script>\n",
              "    </div>\n",
              "  </div>\n",
              "  "
            ]
          },
          "metadata": {},
          "execution_count": 73
        }
      ]
    },
    {
      "cell_type": "code",
      "metadata": {
        "id": "THYywnd0qsSS",
        "outputId": "121ba67f-588f-4e96-c979-634fe91486bf",
        "colab": {
          "base_uri": "https://localhost:8080/",
          "height": 237
        }
      },
      "source": [
        "# возьеме логарифм от колонки с длительностью, чтобы она не выделялась из всего списка\n",
        "additional_data_df['sess_duration'] =  np.log1p(additional_data_df['sess_duration'].values)\n",
        "additional_data_df.head(5)"
      ],
      "execution_count": null,
      "outputs": [
        {
          "output_type": "execute_result",
          "data": {
            "text/plain": [
              "            start_hour  morning  midday  evening  night  sess_duration  \\\n",
              "session_id                                                               \n",
              "21669                8        1       0        0      0       0.000000   \n",
              "54843                8        1       0        0      0       7.488294   \n",
              "77292                8        1       0        0      0       1.609438   \n",
              "114021               8        1       0        0      0       1.386294   \n",
              "146670               8        1       0        0      0       1.098612   \n",
              "\n",
              "            day_of_week  month  \n",
              "session_id                      \n",
              "21669                 5      1  \n",
              "54843                 5      1  \n",
              "77292                 5      1  \n",
              "114021                5      1  \n",
              "146670                5      1  "
            ],
            "text/html": [
              "\n",
              "  <div id=\"df-2b727486-3a6e-4d8d-80a5-8fe9d017e81c\">\n",
              "    <div class=\"colab-df-container\">\n",
              "      <div>\n",
              "<style scoped>\n",
              "    .dataframe tbody tr th:only-of-type {\n",
              "        vertical-align: middle;\n",
              "    }\n",
              "\n",
              "    .dataframe tbody tr th {\n",
              "        vertical-align: top;\n",
              "    }\n",
              "\n",
              "    .dataframe thead th {\n",
              "        text-align: right;\n",
              "    }\n",
              "</style>\n",
              "<table border=\"1\" class=\"dataframe\">\n",
              "  <thead>\n",
              "    <tr style=\"text-align: right;\">\n",
              "      <th></th>\n",
              "      <th>start_hour</th>\n",
              "      <th>morning</th>\n",
              "      <th>midday</th>\n",
              "      <th>evening</th>\n",
              "      <th>night</th>\n",
              "      <th>sess_duration</th>\n",
              "      <th>day_of_week</th>\n",
              "      <th>month</th>\n",
              "    </tr>\n",
              "    <tr>\n",
              "      <th>session_id</th>\n",
              "      <th></th>\n",
              "      <th></th>\n",
              "      <th></th>\n",
              "      <th></th>\n",
              "      <th></th>\n",
              "      <th></th>\n",
              "      <th></th>\n",
              "      <th></th>\n",
              "    </tr>\n",
              "  </thead>\n",
              "  <tbody>\n",
              "    <tr>\n",
              "      <th>21669</th>\n",
              "      <td>8</td>\n",
              "      <td>1</td>\n",
              "      <td>0</td>\n",
              "      <td>0</td>\n",
              "      <td>0</td>\n",
              "      <td>0.000000</td>\n",
              "      <td>5</td>\n",
              "      <td>1</td>\n",
              "    </tr>\n",
              "    <tr>\n",
              "      <th>54843</th>\n",
              "      <td>8</td>\n",
              "      <td>1</td>\n",
              "      <td>0</td>\n",
              "      <td>0</td>\n",
              "      <td>0</td>\n",
              "      <td>7.488294</td>\n",
              "      <td>5</td>\n",
              "      <td>1</td>\n",
              "    </tr>\n",
              "    <tr>\n",
              "      <th>77292</th>\n",
              "      <td>8</td>\n",
              "      <td>1</td>\n",
              "      <td>0</td>\n",
              "      <td>0</td>\n",
              "      <td>0</td>\n",
              "      <td>1.609438</td>\n",
              "      <td>5</td>\n",
              "      <td>1</td>\n",
              "    </tr>\n",
              "    <tr>\n",
              "      <th>114021</th>\n",
              "      <td>8</td>\n",
              "      <td>1</td>\n",
              "      <td>0</td>\n",
              "      <td>0</td>\n",
              "      <td>0</td>\n",
              "      <td>1.386294</td>\n",
              "      <td>5</td>\n",
              "      <td>1</td>\n",
              "    </tr>\n",
              "    <tr>\n",
              "      <th>146670</th>\n",
              "      <td>8</td>\n",
              "      <td>1</td>\n",
              "      <td>0</td>\n",
              "      <td>0</td>\n",
              "      <td>0</td>\n",
              "      <td>1.098612</td>\n",
              "      <td>5</td>\n",
              "      <td>1</td>\n",
              "    </tr>\n",
              "  </tbody>\n",
              "</table>\n",
              "</div>\n",
              "      <button class=\"colab-df-convert\" onclick=\"convertToInteractive('df-2b727486-3a6e-4d8d-80a5-8fe9d017e81c')\"\n",
              "              title=\"Convert this dataframe to an interactive table.\"\n",
              "              style=\"display:none;\">\n",
              "        \n",
              "  <svg xmlns=\"http://www.w3.org/2000/svg\" height=\"24px\"viewBox=\"0 0 24 24\"\n",
              "       width=\"24px\">\n",
              "    <path d=\"M0 0h24v24H0V0z\" fill=\"none\"/>\n",
              "    <path d=\"M18.56 5.44l.94 2.06.94-2.06 2.06-.94-2.06-.94-.94-2.06-.94 2.06-2.06.94zm-11 1L8.5 8.5l.94-2.06 2.06-.94-2.06-.94L8.5 2.5l-.94 2.06-2.06.94zm10 10l.94 2.06.94-2.06 2.06-.94-2.06-.94-.94-2.06-.94 2.06-2.06.94z\"/><path d=\"M17.41 7.96l-1.37-1.37c-.4-.4-.92-.59-1.43-.59-.52 0-1.04.2-1.43.59L10.3 9.45l-7.72 7.72c-.78.78-.78 2.05 0 2.83L4 21.41c.39.39.9.59 1.41.59.51 0 1.02-.2 1.41-.59l7.78-7.78 2.81-2.81c.8-.78.8-2.07 0-2.86zM5.41 20L4 18.59l7.72-7.72 1.47 1.35L5.41 20z\"/>\n",
              "  </svg>\n",
              "      </button>\n",
              "      \n",
              "  <style>\n",
              "    .colab-df-container {\n",
              "      display:flex;\n",
              "      flex-wrap:wrap;\n",
              "      gap: 12px;\n",
              "    }\n",
              "\n",
              "    .colab-df-convert {\n",
              "      background-color: #E8F0FE;\n",
              "      border: none;\n",
              "      border-radius: 50%;\n",
              "      cursor: pointer;\n",
              "      display: none;\n",
              "      fill: #1967D2;\n",
              "      height: 32px;\n",
              "      padding: 0 0 0 0;\n",
              "      width: 32px;\n",
              "    }\n",
              "\n",
              "    .colab-df-convert:hover {\n",
              "      background-color: #E2EBFA;\n",
              "      box-shadow: 0px 1px 2px rgba(60, 64, 67, 0.3), 0px 1px 3px 1px rgba(60, 64, 67, 0.15);\n",
              "      fill: #174EA6;\n",
              "    }\n",
              "\n",
              "    [theme=dark] .colab-df-convert {\n",
              "      background-color: #3B4455;\n",
              "      fill: #D2E3FC;\n",
              "    }\n",
              "\n",
              "    [theme=dark] .colab-df-convert:hover {\n",
              "      background-color: #434B5C;\n",
              "      box-shadow: 0px 1px 3px 1px rgba(0, 0, 0, 0.15);\n",
              "      filter: drop-shadow(0px 1px 2px rgba(0, 0, 0, 0.3));\n",
              "      fill: #FFFFFF;\n",
              "    }\n",
              "  </style>\n",
              "\n",
              "      <script>\n",
              "        const buttonEl =\n",
              "          document.querySelector('#df-2b727486-3a6e-4d8d-80a5-8fe9d017e81c button.colab-df-convert');\n",
              "        buttonEl.style.display =\n",
              "          google.colab.kernel.accessAllowed ? 'block' : 'none';\n",
              "\n",
              "        async function convertToInteractive(key) {\n",
              "          const element = document.querySelector('#df-2b727486-3a6e-4d8d-80a5-8fe9d017e81c');\n",
              "          const dataTable =\n",
              "            await google.colab.kernel.invokeFunction('convertToInteractive',\n",
              "                                                     [key], {});\n",
              "          if (!dataTable) return;\n",
              "\n",
              "          const docLinkHtml = 'Like what you see? Visit the ' +\n",
              "            '<a target=\"_blank\" href=https://colab.research.google.com/notebooks/data_table.ipynb>data table notebook</a>'\n",
              "            + ' to learn more about interactive tables.';\n",
              "          element.innerHTML = '';\n",
              "          dataTable['output_type'] = 'display_data';\n",
              "          await google.colab.output.renderOutput(dataTable, element);\n",
              "          const docLink = document.createElement('div');\n",
              "          docLink.innerHTML = docLinkHtml;\n",
              "          element.appendChild(docLink);\n",
              "        }\n",
              "      </script>\n",
              "    </div>\n",
              "  </div>\n",
              "  "
            ]
          },
          "metadata": {},
          "execution_count": 78
        }
      ]
    },
    {
      "cell_type": "code",
      "metadata": {
        "id": "bSwsQJ3yqsSU"
      },
      "source": [
        "# снова разобьем на тестовые и тренировочны данные\n",
        "add_data_train = additional_data_df[: idx_split].copy() \n",
        "add_data_test = additional_data_df[idx_split :]\n",
        "\n",
        "\n",
        "add_data_train.loc[:, 'target' ] = y_train"
      ],
      "execution_count": null,
      "outputs": []
    },
    {
      "cell_type": "code",
      "metadata": {
        "_uuid": "3aff4c7a0ae1111c4a83e63df0c324e21a3ce656",
        "_cell_guid": "2d092beb-201c-456b-bd3e-63fe58cbd5a2",
        "scrolled": true,
        "ExecuteTime": {
          "start_time": "2018-03-30T18:50:18.42408Z",
          "end_time": "2018-03-30T18:50:18.47304Z"
        },
        "trusted": false,
        "id": "uKQJMJEDqsSY",
        "outputId": "57a09cb9-3bca-4be0-c44e-92fec649fd46",
        "colab": {
          "base_uri": "https://localhost:8080/",
          "height": 331
        }
      },
      "source": [
        "# посмотрим на вид данных \n",
        "dtype_df = add_data_train.dtypes.reset_index() \n",
        "dtype_df.columns = ['Column_name','Column_type'] \n",
        "dtype_df"
      ],
      "execution_count": null,
      "outputs": [
        {
          "output_type": "execute_result",
          "data": {
            "text/plain": [
              "     Column_name Column_type\n",
              "0     start_hour       int64\n",
              "1        morning       int64\n",
              "2         midday       int64\n",
              "3        evening       int64\n",
              "4          night       int64\n",
              "5  sess_duration     float64\n",
              "6    day_of_week       int64\n",
              "7          month       int64\n",
              "8         target     float64"
            ],
            "text/html": [
              "\n",
              "  <div id=\"df-4a658cec-b61a-4ec0-936c-b408a46b4456\">\n",
              "    <div class=\"colab-df-container\">\n",
              "      <div>\n",
              "<style scoped>\n",
              "    .dataframe tbody tr th:only-of-type {\n",
              "        vertical-align: middle;\n",
              "    }\n",
              "\n",
              "    .dataframe tbody tr th {\n",
              "        vertical-align: top;\n",
              "    }\n",
              "\n",
              "    .dataframe thead th {\n",
              "        text-align: right;\n",
              "    }\n",
              "</style>\n",
              "<table border=\"1\" class=\"dataframe\">\n",
              "  <thead>\n",
              "    <tr style=\"text-align: right;\">\n",
              "      <th></th>\n",
              "      <th>Column_name</th>\n",
              "      <th>Column_type</th>\n",
              "    </tr>\n",
              "  </thead>\n",
              "  <tbody>\n",
              "    <tr>\n",
              "      <th>0</th>\n",
              "      <td>start_hour</td>\n",
              "      <td>int64</td>\n",
              "    </tr>\n",
              "    <tr>\n",
              "      <th>1</th>\n",
              "      <td>morning</td>\n",
              "      <td>int64</td>\n",
              "    </tr>\n",
              "    <tr>\n",
              "      <th>2</th>\n",
              "      <td>midday</td>\n",
              "      <td>int64</td>\n",
              "    </tr>\n",
              "    <tr>\n",
              "      <th>3</th>\n",
              "      <td>evening</td>\n",
              "      <td>int64</td>\n",
              "    </tr>\n",
              "    <tr>\n",
              "      <th>4</th>\n",
              "      <td>night</td>\n",
              "      <td>int64</td>\n",
              "    </tr>\n",
              "    <tr>\n",
              "      <th>5</th>\n",
              "      <td>sess_duration</td>\n",
              "      <td>float64</td>\n",
              "    </tr>\n",
              "    <tr>\n",
              "      <th>6</th>\n",
              "      <td>day_of_week</td>\n",
              "      <td>int64</td>\n",
              "    </tr>\n",
              "    <tr>\n",
              "      <th>7</th>\n",
              "      <td>month</td>\n",
              "      <td>int64</td>\n",
              "    </tr>\n",
              "    <tr>\n",
              "      <th>8</th>\n",
              "      <td>target</td>\n",
              "      <td>float64</td>\n",
              "    </tr>\n",
              "  </tbody>\n",
              "</table>\n",
              "</div>\n",
              "      <button class=\"colab-df-convert\" onclick=\"convertToInteractive('df-4a658cec-b61a-4ec0-936c-b408a46b4456')\"\n",
              "              title=\"Convert this dataframe to an interactive table.\"\n",
              "              style=\"display:none;\">\n",
              "        \n",
              "  <svg xmlns=\"http://www.w3.org/2000/svg\" height=\"24px\"viewBox=\"0 0 24 24\"\n",
              "       width=\"24px\">\n",
              "    <path d=\"M0 0h24v24H0V0z\" fill=\"none\"/>\n",
              "    <path d=\"M18.56 5.44l.94 2.06.94-2.06 2.06-.94-2.06-.94-.94-2.06-.94 2.06-2.06.94zm-11 1L8.5 8.5l.94-2.06 2.06-.94-2.06-.94L8.5 2.5l-.94 2.06-2.06.94zm10 10l.94 2.06.94-2.06 2.06-.94-2.06-.94-.94-2.06-.94 2.06-2.06.94z\"/><path d=\"M17.41 7.96l-1.37-1.37c-.4-.4-.92-.59-1.43-.59-.52 0-1.04.2-1.43.59L10.3 9.45l-7.72 7.72c-.78.78-.78 2.05 0 2.83L4 21.41c.39.39.9.59 1.41.59.51 0 1.02-.2 1.41-.59l7.78-7.78 2.81-2.81c.8-.78.8-2.07 0-2.86zM5.41 20L4 18.59l7.72-7.72 1.47 1.35L5.41 20z\"/>\n",
              "  </svg>\n",
              "      </button>\n",
              "      \n",
              "  <style>\n",
              "    .colab-df-container {\n",
              "      display:flex;\n",
              "      flex-wrap:wrap;\n",
              "      gap: 12px;\n",
              "    }\n",
              "\n",
              "    .colab-df-convert {\n",
              "      background-color: #E8F0FE;\n",
              "      border: none;\n",
              "      border-radius: 50%;\n",
              "      cursor: pointer;\n",
              "      display: none;\n",
              "      fill: #1967D2;\n",
              "      height: 32px;\n",
              "      padding: 0 0 0 0;\n",
              "      width: 32px;\n",
              "    }\n",
              "\n",
              "    .colab-df-convert:hover {\n",
              "      background-color: #E2EBFA;\n",
              "      box-shadow: 0px 1px 2px rgba(60, 64, 67, 0.3), 0px 1px 3px 1px rgba(60, 64, 67, 0.15);\n",
              "      fill: #174EA6;\n",
              "    }\n",
              "\n",
              "    [theme=dark] .colab-df-convert {\n",
              "      background-color: #3B4455;\n",
              "      fill: #D2E3FC;\n",
              "    }\n",
              "\n",
              "    [theme=dark] .colab-df-convert:hover {\n",
              "      background-color: #434B5C;\n",
              "      box-shadow: 0px 1px 3px 1px rgba(0, 0, 0, 0.15);\n",
              "      filter: drop-shadow(0px 1px 2px rgba(0, 0, 0, 0.3));\n",
              "      fill: #FFFFFF;\n",
              "    }\n",
              "  </style>\n",
              "\n",
              "      <script>\n",
              "        const buttonEl =\n",
              "          document.querySelector('#df-4a658cec-b61a-4ec0-936c-b408a46b4456 button.colab-df-convert');\n",
              "        buttonEl.style.display =\n",
              "          google.colab.kernel.accessAllowed ? 'block' : 'none';\n",
              "\n",
              "        async function convertToInteractive(key) {\n",
              "          const element = document.querySelector('#df-4a658cec-b61a-4ec0-936c-b408a46b4456');\n",
              "          const dataTable =\n",
              "            await google.colab.kernel.invokeFunction('convertToInteractive',\n",
              "                                                     [key], {});\n",
              "          if (!dataTable) return;\n",
              "\n",
              "          const docLinkHtml = 'Like what you see? Visit the ' +\n",
              "            '<a target=\"_blank\" href=https://colab.research.google.com/notebooks/data_table.ipynb>data table notebook</a>'\n",
              "            + ' to learn more about interactive tables.';\n",
              "          element.innerHTML = '';\n",
              "          dataTable['output_type'] = 'display_data';\n",
              "          await google.colab.output.renderOutput(dataTable, element);\n",
              "          const docLink = document.createElement('div');\n",
              "          docLink.innerHTML = docLinkHtml;\n",
              "          element.appendChild(docLink);\n",
              "        }\n",
              "      </script>\n",
              "    </div>\n",
              "  </div>\n",
              "  "
            ]
          },
          "metadata": {},
          "execution_count": 80
        }
      ]
    },
    {
      "cell_type": "markdown",
      "source": [
        "##Матрица корреляции"
      ],
      "metadata": {
        "id": "0L14wUMBSfiu"
      }
    },
    {
      "cell_type": "code",
      "metadata": {
        "id": "b-2Yz-ffqsSb",
        "outputId": "bdcfffe9-b93d-4179-82f6-39faac8674b2",
        "colab": {
          "base_uri": "https://localhost:8080/",
          "height": 651
        }
      },
      "source": [
        "corr = add_data_train.corr('spearman') \n",
        "plt.figure(figsize=(16, 11)) \n",
        "ax = sns.heatmap(corr, cmap='YlGnBu', annot=True, fmt='.2f');\n",
        "i, k = ax.get_ylim()\n",
        "ax.set_ylim(i + 0.5, k - 0.5);"
      ],
      "execution_count": null,
      "outputs": [
        {
          "output_type": "display_data",
          "data": {
            "text/plain": [
              "<Figure size 1152x792 with 2 Axes>"
            ],
            "image/png": "[encoded data removed]"
          },
          "metadata": {
            "needs_background": "light"
          }
        }
      ]
    },
    {
      "cell_type": "code",
      "metadata": {
        "id": "3ZaTiikGqsSe",
        "colab": {
          "base_uri": "https://localhost:8080/"
        },
        "outputId": "8948a1b3-9dde-4033-da29-0fd3184ad8f1"
      },
      "source": [
        "# удалим колонку ночь, так как она почти ни с чем не коррлирует \n",
        "add_data_train = add_data_train.drop('night', 1)\n",
        "add_data_test = add_data_test.drop('night', 1)"
      ],
      "execution_count": null,
      "outputs": [
        {
          "output_type": "stream",
          "name": "stderr",
          "text": [
            "<ipython-input-82-69e385928166>:2: FutureWarning: In a future version of pandas all arguments of DataFrame.drop except for the argument 'labels' will be keyword-only\n",
            "  add_data_train = add_data_train.drop('night', 1)\n",
            "<ipython-input-82-69e385928166>:3: FutureWarning: In a future version of pandas all arguments of DataFrame.drop except for the argument 'labels' will be keyword-only\n",
            "  add_data_test = add_data_test.drop('night', 1)\n"
          ]
        }
      ]
    },
    {
      "cell_type": "code",
      "metadata": {
        "id": "gswpdjCDqsSg",
        "outputId": "44cbedb6-de2a-4260-e3e2-02e16b2f6c08",
        "colab": {
          "base_uri": "https://localhost:8080/",
          "height": 651
        }
      },
      "source": [
        "corr = add_data_train.corr('spearman') \n",
        "plt.figure(figsize=(16, 11)) \n",
        "ax = sns.heatmap(corr, cmap='YlGnBu', annot=True, fmt='.2f');\n",
        "i, k = ax.get_ylim()\n",
        "ax.set_ylim(i + 0.5, k - 0.5);"
      ],
      "execution_count": null,
      "outputs": [
        {
          "output_type": "display_data",
          "data": {
            "text/plain": [
              "<Figure size 1152x792 with 2 Axes>"
            ],
            "image/png": "[encoded data removed]"
          },
          "metadata": {
            "needs_background": "light"
          }
        }
      ]
    },
    {
      "cell_type": "code",
      "metadata": {
        "id": "4G2Xl56OqsSj",
        "outputId": "82d283b3-fa23-4178-f15d-c807eb8d99a0",
        "colab": {
          "base_uri": "https://localhost:8080/",
          "height": 300
        }
      },
      "source": [
        "dtype_df = add_data_train.dtypes.reset_index() \n",
        "dtype_df.columns = ['Column_name','Column_type'] \n",
        "dtype_df"
      ],
      "execution_count": null,
      "outputs": [
        {
          "output_type": "execute_result",
          "data": {
            "text/plain": [
              "     Column_name Column_type\n",
              "0     start_hour       int64\n",
              "1        morning       int64\n",
              "2         midday       int64\n",
              "3        evening       int64\n",
              "4  sess_duration     float64\n",
              "5    day_of_week       int64\n",
              "6          month       int64\n",
              "7         target       int64"
            ],
            "text/html": [
              "\n",
              "  <div id=\"df-fb036127-5abf-4de8-9845-c7eef31ca7fc\">\n",
              "    <div class=\"colab-df-container\">\n",
              "      <div>\n",
              "<style scoped>\n",
              "    .dataframe tbody tr th:only-of-type {\n",
              "        vertical-align: middle;\n",
              "    }\n",
              "\n",
              "    .dataframe tbody tr th {\n",
              "        vertical-align: top;\n",
              "    }\n",
              "\n",
              "    .dataframe thead th {\n",
              "        text-align: right;\n",
              "    }\n",
              "</style>\n",
              "<table border=\"1\" class=\"dataframe\">\n",
              "  <thead>\n",
              "    <tr style=\"text-align: right;\">\n",
              "      <th></th>\n",
              "      <th>Column_name</th>\n",
              "      <th>Column_type</th>\n",
              "    </tr>\n",
              "  </thead>\n",
              "  <tbody>\n",
              "    <tr>\n",
              "      <th>0</th>\n",
              "      <td>start_hour</td>\n",
              "      <td>int64</td>\n",
              "    </tr>\n",
              "    <tr>\n",
              "      <th>1</th>\n",
              "      <td>morning</td>\n",
              "      <td>int64</td>\n",
              "    </tr>\n",
              "    <tr>\n",
              "      <th>2</th>\n",
              "      <td>midday</td>\n",
              "      <td>int64</td>\n",
              "    </tr>\n",
              "    <tr>\n",
              "      <th>3</th>\n",
              "      <td>evening</td>\n",
              "      <td>int64</td>\n",
              "    </tr>\n",
              "    <tr>\n",
              "      <th>4</th>\n",
              "      <td>sess_duration</td>\n",
              "      <td>float64</td>\n",
              "    </tr>\n",
              "    <tr>\n",
              "      <th>5</th>\n",
              "      <td>day_of_week</td>\n",
              "      <td>int64</td>\n",
              "    </tr>\n",
              "    <tr>\n",
              "      <th>6</th>\n",
              "      <td>month</td>\n",
              "      <td>int64</td>\n",
              "    </tr>\n",
              "    <tr>\n",
              "      <th>7</th>\n",
              "      <td>target</td>\n",
              "      <td>int64</td>\n",
              "    </tr>\n",
              "  </tbody>\n",
              "</table>\n",
              "</div>\n",
              "      <button class=\"colab-df-convert\" onclick=\"convertToInteractive('df-fb036127-5abf-4de8-9845-c7eef31ca7fc')\"\n",
              "              title=\"Convert this dataframe to an interactive table.\"\n",
              "              style=\"display:none;\">\n",
              "        \n",
              "  <svg xmlns=\"http://www.w3.org/2000/svg\" height=\"24px\"viewBox=\"0 0 24 24\"\n",
              "       width=\"24px\">\n",
              "    <path d=\"M0 0h24v24H0V0z\" fill=\"none\"/>\n",
              "    <path d=\"M18.56 5.44l.94 2.06.94-2.06 2.06-.94-2.06-.94-.94-2.06-.94 2.06-2.06.94zm-11 1L8.5 8.5l.94-2.06 2.06-.94-2.06-.94L8.5 2.5l-.94 2.06-2.06.94zm10 10l.94 2.06.94-2.06 2.06-.94-2.06-.94-.94-2.06-.94 2.06-2.06.94z\"/><path d=\"M17.41 7.96l-1.37-1.37c-.4-.4-.92-.59-1.43-.59-.52 0-1.04.2-1.43.59L10.3 9.45l-7.72 7.72c-.78.78-.78 2.05 0 2.83L4 21.41c.39.39.9.59 1.41.59.51 0 1.02-.2 1.41-.59l7.78-7.78 2.81-2.81c.8-.78.8-2.07 0-2.86zM5.41 20L4 18.59l7.72-7.72 1.47 1.35L5.41 20z\"/>\n",
              "  </svg>\n",
              "      </button>\n",
              "      \n",
              "  <style>\n",
              "    .colab-df-container {\n",
              "      display:flex;\n",
              "      flex-wrap:wrap;\n",
              "      gap: 12px;\n",
              "    }\n",
              "\n",
              "    .colab-df-convert {\n",
              "      background-color: #E8F0FE;\n",
              "      border: none;\n",
              "      border-radius: 50%;\n",
              "      cursor: pointer;\n",
              "      display: none;\n",
              "      fill: #1967D2;\n",
              "      height: 32px;\n",
              "      padding: 0 0 0 0;\n",
              "      width: 32px;\n",
              "    }\n",
              "\n",
              "    .colab-df-convert:hover {\n",
              "      background-color: #E2EBFA;\n",
              "      box-shadow: 0px 1px 2px rgba(60, 64, 67, 0.3), 0px 1px 3px 1px rgba(60, 64, 67, 0.15);\n",
              "      fill: #174EA6;\n",
              "    }\n",
              "\n",
              "    [theme=dark] .colab-df-convert {\n",
              "      background-color: #3B4455;\n",
              "      fill: #D2E3FC;\n",
              "    }\n",
              "\n",
              "    [theme=dark] .colab-df-convert:hover {\n",
              "      background-color: #434B5C;\n",
              "      box-shadow: 0px 1px 3px 1px rgba(0, 0, 0, 0.15);\n",
              "      filter: drop-shadow(0px 1px 2px rgba(0, 0, 0, 0.3));\n",
              "      fill: #FFFFFF;\n",
              "    }\n",
              "  </style>\n",
              "\n",
              "      <script>\n",
              "        const buttonEl =\n",
              "          document.querySelector('#df-fb036127-5abf-4de8-9845-c7eef31ca7fc button.colab-df-convert');\n",
              "        buttonEl.style.display =\n",
              "          google.colab.kernel.accessAllowed ? 'block' : 'none';\n",
              "\n",
              "        async function convertToInteractive(key) {\n",
              "          const element = document.querySelector('#df-fb036127-5abf-4de8-9845-c7eef31ca7fc');\n",
              "          const dataTable =\n",
              "            await google.colab.kernel.invokeFunction('convertToInteractive',\n",
              "                                                     [key], {});\n",
              "          if (!dataTable) return;\n",
              "\n",
              "          const docLinkHtml = 'Like what you see? Visit the ' +\n",
              "            '<a target=\"_blank\" href=https://colab.research.google.com/notebooks/data_table.ipynb>data table notebook</a>'\n",
              "            + ' to learn more about interactive tables.';\n",
              "          element.innerHTML = '';\n",
              "          dataTable['output_type'] = 'display_data';\n",
              "          await google.colab.output.renderOutput(dataTable, element);\n",
              "          const docLink = document.createElement('div');\n",
              "          docLink.innerHTML = docLinkHtml;\n",
              "          element.appendChild(docLink);\n",
              "        }\n",
              "      </script>\n",
              "    </div>\n",
              "  </div>\n",
              "  "
            ]
          },
          "metadata": {},
          "execution_count": 19
        }
      ]
    },
    {
      "cell_type": "code",
      "metadata": {
        "id": "9b25ZwI0qsSl",
        "outputId": "3654c12c-bcb4-4814-a832-55baedd7691e",
        "colab": {
          "base_uri": "https://localhost:8080/",
          "height": 1000
        }
      },
      "source": [
        "# Посмотрим как распредяликось количество пользователей по дням недели и началу работы в тренировочных и тестовых данных \n",
        "feature_list = ['start_hour', 'day_of_week'] \n",
        "for column_name in feature_list: \n",
        "    fig, (ax1, ax2) = plt.subplots(1, 2, figsize=(15, 6)) \n",
        "    fig.suptitle(column_name, fontsize=16) \n",
        "    sns.countplot(add_data_train[column_name], ax=ax1) \n",
        "    ax1.set_title(\"Train distribution\") \n",
        "    for tick in ax1.get_xticklabels(): \n",
        "        tick.set_rotation(45)\n",
        "    sns.countplot(add_data_test[column_name], ax=ax2) \n",
        "    ax2.set_title(\"Test distribution\") \n",
        "    for tick in ax2.get_xticklabels(): \n",
        "        tick.set_rotation(45)"
      ],
      "execution_count": null,
      "outputs": [
        {
          "output_type": "stream",
          "name": "stderr",
          "text": [
            "/usr/local/lib/python3.8/dist-packages/seaborn/_decorators.py:36: FutureWarning: Pass the following variable as a keyword arg: x. From version 0.12, the only valid positional argument will be `data`, and passing other arguments without an explicit keyword will result in an error or misinterpretation.\n",
            "  warnings.warn(\n",
            "/usr/local/lib/python3.8/dist-packages/seaborn/_decorators.py:36: FutureWarning: Pass the following variable as a keyword arg: x. From version 0.12, the only valid positional argument will be `data`, and passing other arguments without an explicit keyword will result in an error or misinterpretation.\n",
            "  warnings.warn(\n",
            "/usr/local/lib/python3.8/dist-packages/seaborn/_decorators.py:36: FutureWarning: Pass the following variable as a keyword arg: x. From version 0.12, the only valid positional argument will be `data`, and passing other arguments without an explicit keyword will result in an error or misinterpretation.\n",
            "  warnings.warn(\n",
            "/usr/local/lib/python3.8/dist-packages/seaborn/_decorators.py:36: FutureWarning: Pass the following variable as a keyword arg: x. From version 0.12, the only valid positional argument will be `data`, and passing other arguments without an explicit keyword will result in an error or misinterpretation.\n",
            "  warnings.warn(\n"
          ]
        },
        {
          "output_type": "display_data",
          "data": {
            "text/plain": [
              "<Figure size 1080x432 with 2 Axes>"
            ],
            "image/png": "[encoded data removed]"
          },
          "metadata": {
            "needs_background": "light"
          }
        },
        {
          "output_type": "display_data",
          "data": {
            "text/plain": [
              "<Figure size 1080x432 with 2 Axes>"
            ],
            "image/png": "[encoded data removed]"
          },
          "metadata": {
            "needs_background": "light"
          }
        }
      ]
    },
    {
      "cell_type": "code",
      "metadata": {
        "id": "BRaA36sbqsSo",
        "outputId": "95de7533-9d55-45de-a2ca-d883b3487077",
        "colab": {
          "base_uri": "https://localhost:8080/",
          "height": 1000
        }
      },
      "source": [
        "# посмотрим как распределсиь целевые функции\n",
        "for column_name in feature_list:\n",
        "    fig, (ax1,ax2) = plt.subplots(1, 2, figsize=(15, 6)) \n",
        "    fig.suptitle(column_name, fontsize=16) \n",
        "    sns.countplot(add_data_train[add_data_train['target'] == 1][column_name], ax=ax1) \n",
        "    ax1.set_title(\"Alice\") \n",
        "    for tick in ax1.get_xticklabels(): \n",
        "        tick.set_rotation(45)\n",
        "    sns.countplot(add_data_train[add_data_train['target'] == 0][column_name], ax=ax2) \n",
        "    ax2.set_title(\"Other users\") \n",
        "    for tick in ax2.get_xticklabels(): \n",
        "        tick.set_rotation(45)"
      ],
      "execution_count": null,
      "outputs": [
        {
          "output_type": "stream",
          "name": "stderr",
          "text": [
            "/usr/local/lib/python3.8/dist-packages/seaborn/_decorators.py:36: FutureWarning: Pass the following variable as a keyword arg: x. From version 0.12, the only valid positional argument will be `data`, and passing other arguments without an explicit keyword will result in an error or misinterpretation.\n",
            "  warnings.warn(\n",
            "/usr/local/lib/python3.8/dist-packages/seaborn/_decorators.py:36: FutureWarning: Pass the following variable as a keyword arg: x. From version 0.12, the only valid positional argument will be `data`, and passing other arguments without an explicit keyword will result in an error or misinterpretation.\n",
            "  warnings.warn(\n",
            "/usr/local/lib/python3.8/dist-packages/seaborn/_decorators.py:36: FutureWarning: Pass the following variable as a keyword arg: x. From version 0.12, the only valid positional argument will be `data`, and passing other arguments without an explicit keyword will result in an error or misinterpretation.\n",
            "  warnings.warn(\n",
            "/usr/local/lib/python3.8/dist-packages/seaborn/_decorators.py:36: FutureWarning: Pass the following variable as a keyword arg: x. From version 0.12, the only valid positional argument will be `data`, and passing other arguments without an explicit keyword will result in an error or misinterpretation.\n",
            "  warnings.warn(\n"
          ]
        },
        {
          "output_type": "display_data",
          "data": {
            "text/plain": [
              "<Figure size 1080x432 with 2 Axes>"
            ],
            "image/png": "[encoded data removed]"
          },
          "metadata": {
            "needs_background": "light"
          }
        },
        {
          "output_type": "display_data",
          "data": {
            "text/plain": [
              "<Figure size 1080x432 with 2 Axes>"
            ],
            "image/png": "[encoded data removed]"
          },
          "metadata": {
            "needs_background": "light"
          }
        }
      ]
    },
    {
      "cell_type": "code",
      "metadata": {
        "id": "Lnv1d0tQqsSq",
        "outputId": "a219672e-f13d-47d1-f331-5158addbba43",
        "colab": {
          "base_uri": "https://localhost:8080/",
          "height": 388
        }
      },
      "source": [
        "# посмотрим на длительность сессии\n",
        "plt.figure(figsize=(10, 6))\n",
        "ax = sns.boxplot(x = 'target', y = 'sess_duration', data = add_data_train)"
      ],
      "execution_count": null,
      "outputs": [
        {
          "output_type": "display_data",
          "data": {
            "text/plain": [
              "<Figure size 720x432 with 1 Axes>"
            ],
            "image/png": "[encoded data removed]"
          },
          "metadata": {
            "needs_background": "light"
          }
        }
      ]
    },
    {
      "cell_type": "code",
      "metadata": {
        "id": "ApbH64k5qsSt",
        "outputId": "0dc47861-f12e-4dcb-eeae-bbeccc0ca759",
        "colab": {
          "base_uri": "https://localhost:8080/",
          "height": 237
        }
      },
      "source": [
        "add_data_train.head(5)"
      ],
      "execution_count": null,
      "outputs": [
        {
          "output_type": "execute_result",
          "data": {
            "text/plain": [
              "            start_hour  morning  midday  evening  sess_duration  day_of_week  \\\n",
              "session_id                                                                     \n",
              "21669                8        1       0        0       0.000000            5   \n",
              "54843                8        1       0        0       7.488294            5   \n",
              "77292                8        1       0        0       1.609438            5   \n",
              "114021               8        1       0        0       1.386294            5   \n",
              "146670               8        1       0        0       1.098612            5   \n",
              "\n",
              "            month  target  \n",
              "session_id                 \n",
              "21669           1     0.0  \n",
              "54843           1     NaN  \n",
              "77292           1     0.0  \n",
              "114021          1     0.0  \n",
              "146670          1     0.0  "
            ],
            "text/html": [
              "\n",
              "  <div id=\"df-26f59ea2-9596-4451-9e43-85b230bb32a9\">\n",
              "    <div class=\"colab-df-container\">\n",
              "      <div>\n",
              "<style scoped>\n",
              "    .dataframe tbody tr th:only-of-type {\n",
              "        vertical-align: middle;\n",
              "    }\n",
              "\n",
              "    .dataframe tbody tr th {\n",
              "        vertical-align: top;\n",
              "    }\n",
              "\n",
              "    .dataframe thead th {\n",
              "        text-align: right;\n",
              "    }\n",
              "</style>\n",
              "<table border=\"1\" class=\"dataframe\">\n",
              "  <thead>\n",
              "    <tr style=\"text-align: right;\">\n",
              "      <th></th>\n",
              "      <th>start_hour</th>\n",
              "      <th>morning</th>\n",
              "      <th>midday</th>\n",
              "      <th>evening</th>\n",
              "      <th>sess_duration</th>\n",
              "      <th>day_of_week</th>\n",
              "      <th>month</th>\n",
              "      <th>target</th>\n",
              "    </tr>\n",
              "    <tr>\n",
              "      <th>session_id</th>\n",
              "      <th></th>\n",
              "      <th></th>\n",
              "      <th></th>\n",
              "      <th></th>\n",
              "      <th></th>\n",
              "      <th></th>\n",
              "      <th></th>\n",
              "      <th></th>\n",
              "    </tr>\n",
              "  </thead>\n",
              "  <tbody>\n",
              "    <tr>\n",
              "      <th>21669</th>\n",
              "      <td>8</td>\n",
              "      <td>1</td>\n",
              "      <td>0</td>\n",
              "      <td>0</td>\n",
              "      <td>0.000000</td>\n",
              "      <td>5</td>\n",
              "      <td>1</td>\n",
              "      <td>0.0</td>\n",
              "    </tr>\n",
              "    <tr>\n",
              "      <th>54843</th>\n",
              "      <td>8</td>\n",
              "      <td>1</td>\n",
              "      <td>0</td>\n",
              "      <td>0</td>\n",
              "      <td>7.488294</td>\n",
              "      <td>5</td>\n",
              "      <td>1</td>\n",
              "      <td>NaN</td>\n",
              "    </tr>\n",
              "    <tr>\n",
              "      <th>77292</th>\n",
              "      <td>8</td>\n",
              "      <td>1</td>\n",
              "      <td>0</td>\n",
              "      <td>0</td>\n",
              "      <td>1.609438</td>\n",
              "      <td>5</td>\n",
              "      <td>1</td>\n",
              "      <td>0.0</td>\n",
              "    </tr>\n",
              "    <tr>\n",
              "      <th>114021</th>\n",
              "      <td>8</td>\n",
              "      <td>1</td>\n",
              "      <td>0</td>\n",
              "      <td>0</td>\n",
              "      <td>1.386294</td>\n",
              "      <td>5</td>\n",
              "      <td>1</td>\n",
              "      <td>0.0</td>\n",
              "    </tr>\n",
              "    <tr>\n",
              "      <th>146670</th>\n",
              "      <td>8</td>\n",
              "      <td>1</td>\n",
              "      <td>0</td>\n",
              "      <td>0</td>\n",
              "      <td>1.098612</td>\n",
              "      <td>5</td>\n",
              "      <td>1</td>\n",
              "      <td>0.0</td>\n",
              "    </tr>\n",
              "  </tbody>\n",
              "</table>\n",
              "</div>\n",
              "      <button class=\"colab-df-convert\" onclick=\"convertToInteractive('df-26f59ea2-9596-4451-9e43-85b230bb32a9')\"\n",
              "              title=\"Convert this dataframe to an interactive table.\"\n",
              "              style=\"display:none;\">\n",
              "        \n",
              "  <svg xmlns=\"http://www.w3.org/2000/svg\" height=\"24px\"viewBox=\"0 0 24 24\"\n",
              "       width=\"24px\">\n",
              "    <path d=\"M0 0h24v24H0V0z\" fill=\"none\"/>\n",
              "    <path d=\"M18.56 5.44l.94 2.06.94-2.06 2.06-.94-2.06-.94-.94-2.06-.94 2.06-2.06.94zm-11 1L8.5 8.5l.94-2.06 2.06-.94-2.06-.94L8.5 2.5l-.94 2.06-2.06.94zm10 10l.94 2.06.94-2.06 2.06-.94-2.06-.94-.94-2.06-.94 2.06-2.06.94z\"/><path d=\"M17.41 7.96l-1.37-1.37c-.4-.4-.92-.59-1.43-.59-.52 0-1.04.2-1.43.59L10.3 9.45l-7.72 7.72c-.78.78-.78 2.05 0 2.83L4 21.41c.39.39.9.59 1.41.59.51 0 1.02-.2 1.41-.59l7.78-7.78 2.81-2.81c.8-.78.8-2.07 0-2.86zM5.41 20L4 18.59l7.72-7.72 1.47 1.35L5.41 20z\"/>\n",
              "  </svg>\n",
              "      </button>\n",
              "      \n",
              "  <style>\n",
              "    .colab-df-container {\n",
              "      display:flex;\n",
              "      flex-wrap:wrap;\n",
              "      gap: 12px;\n",
              "    }\n",
              "\n",
              "    .colab-df-convert {\n",
              "      background-color: #E8F0FE;\n",
              "      border: none;\n",
              "      border-radius: 50%;\n",
              "      cursor: pointer;\n",
              "      display: none;\n",
              "      fill: #1967D2;\n",
              "      height: 32px;\n",
              "      padding: 0 0 0 0;\n",
              "      width: 32px;\n",
              "    }\n",
              "\n",
              "    .colab-df-convert:hover {\n",
              "      background-color: #E2EBFA;\n",
              "      box-shadow: 0px 1px 2px rgba(60, 64, 67, 0.3), 0px 1px 3px 1px rgba(60, 64, 67, 0.15);\n",
              "      fill: #174EA6;\n",
              "    }\n",
              "\n",
              "    [theme=dark] .colab-df-convert {\n",
              "      background-color: #3B4455;\n",
              "      fill: #D2E3FC;\n",
              "    }\n",
              "\n",
              "    [theme=dark] .colab-df-convert:hover {\n",
              "      background-color: #434B5C;\n",
              "      box-shadow: 0px 1px 3px 1px rgba(0, 0, 0, 0.15);\n",
              "      filter: drop-shadow(0px 1px 2px rgba(0, 0, 0, 0.3));\n",
              "      fill: #FFFFFF;\n",
              "    }\n",
              "  </style>\n",
              "\n",
              "      <script>\n",
              "        const buttonEl =\n",
              "          document.querySelector('#df-26f59ea2-9596-4451-9e43-85b230bb32a9 button.colab-df-convert');\n",
              "        buttonEl.style.display =\n",
              "          google.colab.kernel.accessAllowed ? 'block' : 'none';\n",
              "\n",
              "        async function convertToInteractive(key) {\n",
              "          const element = document.querySelector('#df-26f59ea2-9596-4451-9e43-85b230bb32a9');\n",
              "          const dataTable =\n",
              "            await google.colab.kernel.invokeFunction('convertToInteractive',\n",
              "                                                     [key], {});\n",
              "          if (!dataTable) return;\n",
              "\n",
              "          const docLinkHtml = 'Like what you see? Visit the ' +\n",
              "            '<a target=\"_blank\" href=https://colab.research.google.com/notebooks/data_table.ipynb>data table notebook</a>'\n",
              "            + ' to learn more about interactive tables.';\n",
              "          element.innerHTML = '';\n",
              "          dataTable['output_type'] = 'display_data';\n",
              "          await google.colab.output.renderOutput(dataTable, element);\n",
              "          const docLink = document.createElement('div');\n",
              "          docLink.innerHTML = docLinkHtml;\n",
              "          element.appendChild(docLink);\n",
              "        }\n",
              "      </script>\n",
              "    </div>\n",
              "  </div>\n",
              "  "
            ]
          },
          "metadata": {},
          "execution_count": 93
        }
      ]
    },
    {
      "cell_type": "markdown",
      "source": [
        "## One hot encoding"
      ],
      "metadata": {
        "id": "M20xllVxWRdH"
      }
    },
    {
      "cell_type": "markdown",
      "source": [
        "https://pandas.pydata.org/pandas-docs/stable/reference/api/pandas.get_dummies.html"
      ],
      "metadata": {
        "id": "31of-8-PWQ9I"
      }
    },
    {
      "cell_type": "code",
      "metadata": {
        "_uuid": "41de2a668b26f35f72083a9d5f62242864868a0a",
        "_cell_guid": "b92f676d-2f9c-4e6c-b892-0e03c8b07d9c",
        "ExecuteTime": {
          "start_time": "2018-03-29T04:11:15.461955Z",
          "end_time": "2018-03-29T04:11:15.661951Z"
        },
        "trusted": false,
        "id": "4cbYQMznqsSw"
      },
      "source": [
        "# ковертируем день недели методом One hot encoding\n",
        "add_train_dummies  = pd.get_dummies(add_data_train , columns=['day_of_week']) \n",
        "add_train_dummies.drop(['target'],axis = 1,inplace=True) \n",
        "add_test_dummies  = pd.get_dummies(add_data_test,columns=['day_of_week'])"
      ],
      "execution_count": null,
      "outputs": []
    },
    {
      "cell_type": "code",
      "metadata": {
        "id": "JYJdN_uvqsSz",
        "outputId": "f2aeed3f-a9f0-4333-d7f4-68d4deab1d0f",
        "colab": {
          "base_uri": "https://localhost:8080/",
          "height": 301
        }
      },
      "source": [
        "add_train_dummies.head()"
      ],
      "execution_count": null,
      "outputs": [
        {
          "output_type": "execute_result",
          "data": {
            "text/plain": [
              "            start_hour  morning  midday  evening  sess_duration  month  \\\n",
              "session_id                                                               \n",
              "21669                8        1       0        0       0.000000      1   \n",
              "54843                8        1       0        0       7.488294      1   \n",
              "77292                8        1       0        0       1.609438      1   \n",
              "114021               8        1       0        0       1.386294      1   \n",
              "146670               8        1       0        0       1.098612      1   \n",
              "\n",
              "            day_of_week_0  day_of_week_1  day_of_week_2  day_of_week_3  \\\n",
              "session_id                                                               \n",
              "21669                   0              0              0              0   \n",
              "54843                   0              0              0              0   \n",
              "77292                   0              0              0              0   \n",
              "114021                  0              0              0              0   \n",
              "146670                  0              0              0              0   \n",
              "\n",
              "            day_of_week_4  day_of_week_5  day_of_week_6  \n",
              "session_id                                               \n",
              "21669                   0              1              0  \n",
              "54843                   0              1              0  \n",
              "77292                   0              1              0  \n",
              "114021                  0              1              0  \n",
              "146670                  0              1              0  "
            ],
            "text/html": [
              "\n",
              "  <div id=\"df-47c1055d-1b24-4cdd-8c63-f8639500fb4a\">\n",
              "    <div class=\"colab-df-container\">\n",
              "      <div>\n",
              "<style scoped>\n",
              "    .dataframe tbody tr th:only-of-type {\n",
              "        vertical-align: middle;\n",
              "    }\n",
              "\n",
              "    .dataframe tbody tr th {\n",
              "        vertical-align: top;\n",
              "    }\n",
              "\n",
              "    .dataframe thead th {\n",
              "        text-align: right;\n",
              "    }\n",
              "</style>\n",
              "<table border=\"1\" class=\"dataframe\">\n",
              "  <thead>\n",
              "    <tr style=\"text-align: right;\">\n",
              "      <th></th>\n",
              "      <th>start_hour</th>\n",
              "      <th>morning</th>\n",
              "      <th>midday</th>\n",
              "      <th>evening</th>\n",
              "      <th>sess_duration</th>\n",
              "      <th>month</th>\n",
              "      <th>day_of_week_0</th>\n",
              "      <th>day_of_week_1</th>\n",
              "      <th>day_of_week_2</th>\n",
              "      <th>day_of_week_3</th>\n",
              "      <th>day_of_week_4</th>\n",
              "      <th>day_of_week_5</th>\n",
              "      <th>day_of_week_6</th>\n",
              "    </tr>\n",
              "    <tr>\n",
              "      <th>session_id</th>\n",
              "      <th></th>\n",
              "      <th></th>\n",
              "      <th></th>\n",
              "      <th></th>\n",
              "      <th></th>\n",
              "      <th></th>\n",
              "      <th></th>\n",
              "      <th></th>\n",
              "      <th></th>\n",
              "      <th></th>\n",
              "      <th></th>\n",
              "      <th></th>\n",
              "      <th></th>\n",
              "    </tr>\n",
              "  </thead>\n",
              "  <tbody>\n",
              "    <tr>\n",
              "      <th>21669</th>\n",
              "      <td>8</td>\n",
              "      <td>1</td>\n",
              "      <td>0</td>\n",
              "      <td>0</td>\n",
              "      <td>0.000000</td>\n",
              "      <td>1</td>\n",
              "      <td>0</td>\n",
              "      <td>0</td>\n",
              "      <td>0</td>\n",
              "      <td>0</td>\n",
              "      <td>0</td>\n",
              "      <td>1</td>\n",
              "      <td>0</td>\n",
              "    </tr>\n",
              "    <tr>\n",
              "      <th>54843</th>\n",
              "      <td>8</td>\n",
              "      <td>1</td>\n",
              "      <td>0</td>\n",
              "      <td>0</td>\n",
              "      <td>7.488294</td>\n",
              "      <td>1</td>\n",
              "      <td>0</td>\n",
              "      <td>0</td>\n",
              "      <td>0</td>\n",
              "      <td>0</td>\n",
              "      <td>0</td>\n",
              "      <td>1</td>\n",
              "      <td>0</td>\n",
              "    </tr>\n",
              "    <tr>\n",
              "      <th>77292</th>\n",
              "      <td>8</td>\n",
              "      <td>1</td>\n",
              "      <td>0</td>\n",
              "      <td>0</td>\n",
              "      <td>1.609438</td>\n",
              "      <td>1</td>\n",
              "      <td>0</td>\n",
              "      <td>0</td>\n",
              "      <td>0</td>\n",
              "      <td>0</td>\n",
              "      <td>0</td>\n",
              "      <td>1</td>\n",
              "      <td>0</td>\n",
              "    </tr>\n",
              "    <tr>\n",
              "      <th>114021</th>\n",
              "      <td>8</td>\n",
              "      <td>1</td>\n",
              "      <td>0</td>\n",
              "      <td>0</td>\n",
              "      <td>1.386294</td>\n",
              "      <td>1</td>\n",
              "      <td>0</td>\n",
              "      <td>0</td>\n",
              "      <td>0</td>\n",
              "      <td>0</td>\n",
              "      <td>0</td>\n",
              "      <td>1</td>\n",
              "      <td>0</td>\n",
              "    </tr>\n",
              "    <tr>\n",
              "      <th>146670</th>\n",
              "      <td>8</td>\n",
              "      <td>1</td>\n",
              "      <td>0</td>\n",
              "      <td>0</td>\n",
              "      <td>1.098612</td>\n",
              "      <td>1</td>\n",
              "      <td>0</td>\n",
              "      <td>0</td>\n",
              "      <td>0</td>\n",
              "      <td>0</td>\n",
              "      <td>0</td>\n",
              "      <td>1</td>\n",
              "      <td>0</td>\n",
              "    </tr>\n",
              "  </tbody>\n",
              "</table>\n",
              "</div>\n",
              "      <button class=\"colab-df-convert\" onclick=\"convertToInteractive('df-47c1055d-1b24-4cdd-8c63-f8639500fb4a')\"\n",
              "              title=\"Convert this dataframe to an interactive table.\"\n",
              "              style=\"display:none;\">\n",
              "        \n",
              "  <svg xmlns=\"http://www.w3.org/2000/svg\" height=\"24px\"viewBox=\"0 0 24 24\"\n",
              "       width=\"24px\">\n",
              "    <path d=\"M0 0h24v24H0V0z\" fill=\"none\"/>\n",
              "    <path d=\"M18.56 5.44l.94 2.06.94-2.06 2.06-.94-2.06-.94-.94-2.06-.94 2.06-2.06.94zm-11 1L8.5 8.5l.94-2.06 2.06-.94-2.06-.94L8.5 2.5l-.94 2.06-2.06.94zm10 10l.94 2.06.94-2.06 2.06-.94-2.06-.94-.94-2.06-.94 2.06-2.06.94z\"/><path d=\"M17.41 7.96l-1.37-1.37c-.4-.4-.92-.59-1.43-.59-.52 0-1.04.2-1.43.59L10.3 9.45l-7.72 7.72c-.78.78-.78 2.05 0 2.83L4 21.41c.39.39.9.59 1.41.59.51 0 1.02-.2 1.41-.59l7.78-7.78 2.81-2.81c.8-.78.8-2.07 0-2.86zM5.41 20L4 18.59l7.72-7.72 1.47 1.35L5.41 20z\"/>\n",
              "  </svg>\n",
              "      </button>\n",
              "      \n",
              "  <style>\n",
              "    .colab-df-container {\n",
              "      display:flex;\n",
              "      flex-wrap:wrap;\n",
              "      gap: 12px;\n",
              "    }\n",
              "\n",
              "    .colab-df-convert {\n",
              "      background-color: #E8F0FE;\n",
              "      border: none;\n",
              "      border-radius: 50%;\n",
              "      cursor: pointer;\n",
              "      display: none;\n",
              "      fill: #1967D2;\n",
              "      height: 32px;\n",
              "      padding: 0 0 0 0;\n",
              "      width: 32px;\n",
              "    }\n",
              "\n",
              "    .colab-df-convert:hover {\n",
              "      background-color: #E2EBFA;\n",
              "      box-shadow: 0px 1px 2px rgba(60, 64, 67, 0.3), 0px 1px 3px 1px rgba(60, 64, 67, 0.15);\n",
              "      fill: #174EA6;\n",
              "    }\n",
              "\n",
              "    [theme=dark] .colab-df-convert {\n",
              "      background-color: #3B4455;\n",
              "      fill: #D2E3FC;\n",
              "    }\n",
              "\n",
              "    [theme=dark] .colab-df-convert:hover {\n",
              "      background-color: #434B5C;\n",
              "      box-shadow: 0px 1px 3px 1px rgba(0, 0, 0, 0.15);\n",
              "      filter: drop-shadow(0px 1px 2px rgba(0, 0, 0, 0.3));\n",
              "      fill: #FFFFFF;\n",
              "    }\n",
              "  </style>\n",
              "\n",
              "      <script>\n",
              "        const buttonEl =\n",
              "          document.querySelector('#df-47c1055d-1b24-4cdd-8c63-f8639500fb4a button.colab-df-convert');\n",
              "        buttonEl.style.display =\n",
              "          google.colab.kernel.accessAllowed ? 'block' : 'none';\n",
              "\n",
              "        async function convertToInteractive(key) {\n",
              "          const element = document.querySelector('#df-47c1055d-1b24-4cdd-8c63-f8639500fb4a');\n",
              "          const dataTable =\n",
              "            await google.colab.kernel.invokeFunction('convertToInteractive',\n",
              "                                                     [key], {});\n",
              "          if (!dataTable) return;\n",
              "\n",
              "          const docLinkHtml = 'Like what you see? Visit the ' +\n",
              "            '<a target=\"_blank\" href=https://colab.research.google.com/notebooks/data_table.ipynb>data table notebook</a>'\n",
              "            + ' to learn more about interactive tables.';\n",
              "          element.innerHTML = '';\n",
              "          dataTable['output_type'] = 'display_data';\n",
              "          await google.colab.output.renderOutput(dataTable, element);\n",
              "          const docLink = document.createElement('div');\n",
              "          docLink.innerHTML = docLinkHtml;\n",
              "          element.appendChild(docLink);\n",
              "        }\n",
              "      </script>\n",
              "    </div>\n",
              "  </div>\n",
              "  "
            ]
          },
          "metadata": {},
          "execution_count": 95
        }
      ]
    },
    {
      "cell_type": "markdown",
      "source": [
        "## Стандартизируем переменные"
      ],
      "metadata": {
        "id": "a9NWHw-cWgI-"
      }
    },
    {
      "cell_type": "markdown",
      "source": [
        "Стандартизация данных — это процесс масштабирования атрибутов таким образом, чтобы их среднее значение равнялось 0, а дисперсия — 1.\n",
        "\n",
        "\n",
        "Конечная цель выполнения стандартизации состоит в том, чтобы привести все признаки к общей шкале, не искажая различий в диапазоне значений.\n",
        "\n",
        "\n",
        "В sklearn.preprocessing.StandardScaler() центрирование и масштабирование происходит независимо для каждой функции."
      ],
      "metadata": {
        "id": "1ppcWAYdXFYE"
      }
    },
    {
      "cell_type": "markdown",
      "source": [
        "используем fit_transform() для обучающих данных, а transform() для тестовых данных"
      ],
      "metadata": {
        "id": "gAQ0ZGgQW9Wf"
      }
    },
    {
      "cell_type": "code",
      "metadata": {
        "_uuid": "5011c6d919e3e2553d5c327c960c048c2beeb433",
        "_cell_guid": "b42dbeb5-3f2f-4c7c-8c8b-0a9ef57f0e07",
        "ExecuteTime": {
          "start_time": "2018-03-29T10:14:52.036791Z",
          "end_time": "2018-03-29T10:14:52.2454Z"
        },
        "trusted": false,
        "id": "OOICHA9kqsS-"
      },
      "source": [
        "names_for_scale = list(add_train_dummies.columns)\n",
        "scaler = StandardScaler() \n",
        "for column_name in names_for_scale : \n",
        "    # values - Возвращает Numpy-представление DataFrame.\n",
        "    # reshape(-1, 1) - приводит к одномерному массиву\n",
        "    add_train_dummies[column_name] = scaler.fit_transform(add_train_dummies[column_name].values.reshape(-1, 1)) \n",
        "    add_test_dummies[column_name] = scaler.transform(add_test_dummies[column_name].values.reshape(-1, 1))"
      ],
      "execution_count": null,
      "outputs": []
    },
    {
      "cell_type": "code",
      "metadata": {
        "id": "7aYTRbwTqsTB",
        "outputId": "be3c7bc7-4660-4353-fa91-9a84b66dd62f",
        "colab": {
          "base_uri": "https://localhost:8080/",
          "height": 301
        }
      },
      "source": [
        "add_test_dummies.head()"
      ],
      "execution_count": null,
      "outputs": [
        {
          "output_type": "execute_result",
          "data": {
            "text/plain": [
              "            start_hour   morning    midday   evening  sess_duration     month  \\\n",
              "session_id                                                                      \n",
              "1            -0.407823  1.039061 -0.981280 -0.171577      -0.750303  1.474950   \n",
              "2            -0.407823  1.039061 -0.981280 -0.171577       0.571882  0.668778   \n",
              "3             0.858234 -0.962408  1.019077 -0.171577       0.565370  2.012399   \n",
              "4            -0.724338  1.039061 -0.981280 -0.171577      -1.011969  1.743675   \n",
              "5             0.858234 -0.962408  1.019077 -0.171577      -0.438748  0.131329   \n",
              "\n",
              "            day_of_week_0  day_of_week_1  day_of_week_2  day_of_week_3  \\\n",
              "session_id                                                               \n",
              "1               -0.436072      -0.487314       -0.53223      -0.459143   \n",
              "2               -0.436072      -0.487314       -0.53223       2.177972   \n",
              "3               -0.436072      -0.487314       -0.53223      -0.459143   \n",
              "4               -0.436072       2.052067       -0.53223      -0.459143   \n",
              "5               -0.436072      -0.487314       -0.53223      -0.459143   \n",
              "\n",
              "            day_of_week_4  day_of_week_5  day_of_week_6  \n",
              "session_id                                               \n",
              "1               -0.440082       3.879327      -0.172561  \n",
              "2               -0.440082      -0.257777      -0.172561  \n",
              "3                2.272305      -0.257777      -0.172561  \n",
              "4               -0.440082      -0.257777      -0.172561  \n",
              "5                2.272305      -0.257777      -0.172561  "
            ],
            "text/html": [
              "\n",
              "  <div id=\"df-38f51d30-723e-422e-b38f-40b238c30204\">\n",
              "    <div class=\"colab-df-container\">\n",
              "      <div>\n",
              "<style scoped>\n",
              "    .dataframe tbody tr th:only-of-type {\n",
              "        vertical-align: middle;\n",
              "    }\n",
              "\n",
              "    .dataframe tbody tr th {\n",
              "        vertical-align: top;\n",
              "    }\n",
              "\n",
              "    .dataframe thead th {\n",
              "        text-align: right;\n",
              "    }\n",
              "</style>\n",
              "<table border=\"1\" class=\"dataframe\">\n",
              "  <thead>\n",
              "    <tr style=\"text-align: right;\">\n",
              "      <th></th>\n",
              "      <th>start_hour</th>\n",
              "      <th>morning</th>\n",
              "      <th>midday</th>\n",
              "      <th>evening</th>\n",
              "      <th>sess_duration</th>\n",
              "      <th>month</th>\n",
              "      <th>day_of_week_0</th>\n",
              "      <th>day_of_week_1</th>\n",
              "      <th>day_of_week_2</th>\n",
              "      <th>day_of_week_3</th>\n",
              "      <th>day_of_week_4</th>\n",
              "      <th>day_of_week_5</th>\n",
              "      <th>day_of_week_6</th>\n",
              "    </tr>\n",
              "    <tr>\n",
              "      <th>session_id</th>\n",
              "      <th></th>\n",
              "      <th></th>\n",
              "      <th></th>\n",
              "      <th></th>\n",
              "      <th></th>\n",
              "      <th></th>\n",
              "      <th></th>\n",
              "      <th></th>\n",
              "      <th></th>\n",
              "      <th></th>\n",
              "      <th></th>\n",
              "      <th></th>\n",
              "      <th></th>\n",
              "    </tr>\n",
              "  </thead>\n",
              "  <tbody>\n",
              "    <tr>\n",
              "      <th>1</th>\n",
              "      <td>-0.407823</td>\n",
              "      <td>1.039061</td>\n",
              "      <td>-0.981280</td>\n",
              "      <td>-0.171577</td>\n",
              "      <td>-0.750303</td>\n",
              "      <td>1.474950</td>\n",
              "      <td>-0.436072</td>\n",
              "      <td>-0.487314</td>\n",
              "      <td>-0.53223</td>\n",
              "      <td>-0.459143</td>\n",
              "      <td>-0.440082</td>\n",
              "      <td>3.879327</td>\n",
              "      <td>-0.172561</td>\n",
              "    </tr>\n",
              "    <tr>\n",
              "      <th>2</th>\n",
              "      <td>-0.407823</td>\n",
              "      <td>1.039061</td>\n",
              "      <td>-0.981280</td>\n",
              "      <td>-0.171577</td>\n",
              "      <td>0.571882</td>\n",
              "      <td>0.668778</td>\n",
              "      <td>-0.436072</td>\n",
              "      <td>-0.487314</td>\n",
              "      <td>-0.53223</td>\n",
              "      <td>2.177972</td>\n",
              "      <td>-0.440082</td>\n",
              "      <td>-0.257777</td>\n",
              "      <td>-0.172561</td>\n",
              "    </tr>\n",
              "    <tr>\n",
              "      <th>3</th>\n",
              "      <td>0.858234</td>\n",
              "      <td>-0.962408</td>\n",
              "      <td>1.019077</td>\n",
              "      <td>-0.171577</td>\n",
              "      <td>0.565370</td>\n",
              "      <td>2.012399</td>\n",
              "      <td>-0.436072</td>\n",
              "      <td>-0.487314</td>\n",
              "      <td>-0.53223</td>\n",
              "      <td>-0.459143</td>\n",
              "      <td>2.272305</td>\n",
              "      <td>-0.257777</td>\n",
              "      <td>-0.172561</td>\n",
              "    </tr>\n",
              "    <tr>\n",
              "      <th>4</th>\n",
              "      <td>-0.724338</td>\n",
              "      <td>1.039061</td>\n",
              "      <td>-0.981280</td>\n",
              "      <td>-0.171577</td>\n",
              "      <td>-1.011969</td>\n",
              "      <td>1.743675</td>\n",
              "      <td>-0.436072</td>\n",
              "      <td>2.052067</td>\n",
              "      <td>-0.53223</td>\n",
              "      <td>-0.459143</td>\n",
              "      <td>-0.440082</td>\n",
              "      <td>-0.257777</td>\n",
              "      <td>-0.172561</td>\n",
              "    </tr>\n",
              "    <tr>\n",
              "      <th>5</th>\n",
              "      <td>0.858234</td>\n",
              "      <td>-0.962408</td>\n",
              "      <td>1.019077</td>\n",
              "      <td>-0.171577</td>\n",
              "      <td>-0.438748</td>\n",
              "      <td>0.131329</td>\n",
              "      <td>-0.436072</td>\n",
              "      <td>-0.487314</td>\n",
              "      <td>-0.53223</td>\n",
              "      <td>-0.459143</td>\n",
              "      <td>2.272305</td>\n",
              "      <td>-0.257777</td>\n",
              "      <td>-0.172561</td>\n",
              "    </tr>\n",
              "  </tbody>\n",
              "</table>\n",
              "</div>\n",
              "      <button class=\"colab-df-convert\" onclick=\"convertToInteractive('df-38f51d30-723e-422e-b38f-40b238c30204')\"\n",
              "              title=\"Convert this dataframe to an interactive table.\"\n",
              "              style=\"display:none;\">\n",
              "        \n",
              "  <svg xmlns=\"http://www.w3.org/2000/svg\" height=\"24px\"viewBox=\"0 0 24 24\"\n",
              "       width=\"24px\">\n",
              "    <path d=\"M0 0h24v24H0V0z\" fill=\"none\"/>\n",
              "    <path d=\"M18.56 5.44l.94 2.06.94-2.06 2.06-.94-2.06-.94-.94-2.06-.94 2.06-2.06.94zm-11 1L8.5 8.5l.94-2.06 2.06-.94-2.06-.94L8.5 2.5l-.94 2.06-2.06.94zm10 10l.94 2.06.94-2.06 2.06-.94-2.06-.94-.94-2.06-.94 2.06-2.06.94z\"/><path d=\"M17.41 7.96l-1.37-1.37c-.4-.4-.92-.59-1.43-.59-.52 0-1.04.2-1.43.59L10.3 9.45l-7.72 7.72c-.78.78-.78 2.05 0 2.83L4 21.41c.39.39.9.59 1.41.59.51 0 1.02-.2 1.41-.59l7.78-7.78 2.81-2.81c.8-.78.8-2.07 0-2.86zM5.41 20L4 18.59l7.72-7.72 1.47 1.35L5.41 20z\"/>\n",
              "  </svg>\n",
              "      </button>\n",
              "      \n",
              "  <style>\n",
              "    .colab-df-container {\n",
              "      display:flex;\n",
              "      flex-wrap:wrap;\n",
              "      gap: 12px;\n",
              "    }\n",
              "\n",
              "    .colab-df-convert {\n",
              "      background-color: #E8F0FE;\n",
              "      border: none;\n",
              "      border-radius: 50%;\n",
              "      cursor: pointer;\n",
              "      display: none;\n",
              "      fill: #1967D2;\n",
              "      height: 32px;\n",
              "      padding: 0 0 0 0;\n",
              "      width: 32px;\n",
              "    }\n",
              "\n",
              "    .colab-df-convert:hover {\n",
              "      background-color: #E2EBFA;\n",
              "      box-shadow: 0px 1px 2px rgba(60, 64, 67, 0.3), 0px 1px 3px 1px rgba(60, 64, 67, 0.15);\n",
              "      fill: #174EA6;\n",
              "    }\n",
              "\n",
              "    [theme=dark] .colab-df-convert {\n",
              "      background-color: #3B4455;\n",
              "      fill: #D2E3FC;\n",
              "    }\n",
              "\n",
              "    [theme=dark] .colab-df-convert:hover {\n",
              "      background-color: #434B5C;\n",
              "      box-shadow: 0px 1px 3px 1px rgba(0, 0, 0, 0.15);\n",
              "      filter: drop-shadow(0px 1px 2px rgba(0, 0, 0, 0.3));\n",
              "      fill: #FFFFFF;\n",
              "    }\n",
              "  </style>\n",
              "\n",
              "      <script>\n",
              "        const buttonEl =\n",
              "          document.querySelector('#df-38f51d30-723e-422e-b38f-40b238c30204 button.colab-df-convert');\n",
              "        buttonEl.style.display =\n",
              "          google.colab.kernel.accessAllowed ? 'block' : 'none';\n",
              "\n",
              "        async function convertToInteractive(key) {\n",
              "          const element = document.querySelector('#df-38f51d30-723e-422e-b38f-40b238c30204');\n",
              "          const dataTable =\n",
              "            await google.colab.kernel.invokeFunction('convertToInteractive',\n",
              "                                                     [key], {});\n",
              "          if (!dataTable) return;\n",
              "\n",
              "          const docLinkHtml = 'Like what you see? Visit the ' +\n",
              "            '<a target=\"_blank\" href=https://colab.research.google.com/notebooks/data_table.ipynb>data table notebook</a>'\n",
              "            + ' to learn more about interactive tables.';\n",
              "          element.innerHTML = '';\n",
              "          dataTable['output_type'] = 'display_data';\n",
              "          await google.colab.output.renderOutput(dataTable, element);\n",
              "          const docLink = document.createElement('div');\n",
              "          docLink.innerHTML = docLinkHtml;\n",
              "          element.appendChild(docLink);\n",
              "        }\n",
              "      </script>\n",
              "    </div>\n",
              "  </div>\n",
              "  "
            ]
          },
          "metadata": {},
          "execution_count": 27
        }
      ]
    },
    {
      "cell_type": "code",
      "metadata": {
        "_uuid": "85b131e2eb1ce766eb26bc6fea05cb9c3e2fe844",
        "_cell_guid": "71235b9a-261d-43d6-9e26-ef7d6ef3f012",
        "ExecuteTime": {
          "start_time": "2018-03-29T10:15:49.734417Z",
          "end_time": "2018-03-29T10:15:58.257232Z"
        },
        "trusted": false,
        "id": "R8QgvywmqsTD",
        "outputId": "b6aa6641-ce97-440e-f639-9e113161f7b5",
        "colab": {
          "base_uri": "https://localhost:8080/"
        }
      },
      "source": [
        "# объединим данные о сайтах и временные переменные\n",
        "x_train_full = csr_matrix(hstack([train_sites_matrix, add_train_dummies.values])) \n",
        "x_test_full = csr_matrix(hstack([test_sites_matrix, add_test_dummies.values])) \n",
        "x_train_full.shape, x_test_full.shape"
      ],
      "execution_count": null,
      "outputs": [
        {
          "output_type": "execute_result",
          "data": {
            "text/plain": [
              "((253561, 50013), (82797, 50013))"
            ]
          },
          "metadata": {},
          "execution_count": 98
        }
      ]
    },
    {
      "cell_type": "code",
      "metadata": {
        "id": "Z8DogiWQqsTG"
      },
      "source": [
        "target = train_df['target']\n",
        "X_train , X_valid , y_train , y_valid = train_test_split(x_train_full,target ,test_size=0.2) \n",
        "tscv = TimeSeriesSplit(n_splits=5);"
      ],
      "execution_count": null,
      "outputs": []
    },
    {
      "cell_type": "markdown",
      "source": [
        "LogisticRegression"
      ],
      "metadata": {
        "id": "nzx25aDjaYjq"
      }
    },
    {
      "cell_type": "code",
      "metadata": {
        "id": "UoiM4EHlqsTI",
        "outputId": "fbf354eb-1326-4ff0-f326-9234f7a233e6",
        "colab": {
          "base_uri": "https://localhost:8080/"
        }
      },
      "source": [
        "%%time\n",
        "# clf_lr = LogisticRegression(random_state=42, n_jobs=-1)\n",
        "clf_lr = LogisticRegression(random_state=42, n_jobs=-1, max_iter=500)\n",
        "clf_lr.fit(X_train, y_train)\n",
        "\n",
        "preds_lr = clf_lr.predict_proba(X_valid)[:, 1]\n",
        "print('Train test split LogisticRegression score:% s ROC AUC'% round(roc_auc_score(y_valid, preds_lr), 4))\n",
        "\n",
        "cross_score_lr = np.mean(cross_val_score(clf_lr, x_train_full, target, scoring = 'roc_auc', n_jobs=-1, cv=tscv))\n",
        "print('Cross validation LogisticRegression score:% s ROC AUC'% round (cross_score_lr, 4))"
      ],
      "execution_count": null,
      "outputs": [
        {
          "output_type": "stream",
          "name": "stdout",
          "text": [
            "Train test split LogisticRegression score:0.9809 ROC AUC\n",
            "Cross validation LogisticRegression score:0.9115 ROC AUC\n",
            "CPU times: user 376 ms, sys: 108 ms, total: 483 ms\n",
            "Wall time: 48.2 s\n"
          ]
        }
      ]
    },
    {
      "cell_type": "markdown",
      "source": [
        "RandomForestClassifier"
      ],
      "metadata": {
        "id": "pxtWZq-JaZjc"
      }
    },
    {
      "cell_type": "code",
      "metadata": {
        "id": "yv6-rwjqqsTL",
        "outputId": "7690dac4-f380-44d3-a54d-4332ece266e9",
        "colab": {
          "base_uri": "https://localhost:8080/"
        }
      },
      "source": [
        "%%time\n",
        "# clf_rf = RandomForestClassifier(random_state=42, n_jobs=-1)\n",
        "clf_rf = RandomForestClassifier(random_state=42, n_estimators=100, n_jobs=-1)\n",
        "clf_rf.fit(X_train, y_train)\n",
        "preds_rf = clf_rf.predict_proba(X_valid)[:, 1]\n",
        "print ('Train test split RandomForestClassifier score:% s ROC AUC'% round(roc_auc_score(y_valid, preds_rf), 4))\n",
        "cross_score_rf = np.mean (cross_val_score (clf_rf, x_train_full, target, scoring = 'roc_auc', n_jobs=-1, cv=tscv))\n",
        "print ('Cross validation RandomForestClassifier score:% s ROC AUC'% round (cross_score_rf, 4))"
      ],
      "execution_count": null,
      "outputs": [
        {
          "output_type": "stream",
          "name": "stdout",
          "text": [
            "Train test split RandomForestClassifier score:0.9791 ROC AUC\n",
            "Cross validation RandomForestClassifier score:0.8249 ROC AUC\n",
            "CPU times: user 6min 53s, sys: 1.5 s, total: 6min 54s\n",
            "Wall time: 14min 20s\n"
          ]
        }
      ]
    },
    {
      "cell_type": "markdown",
      "source": [
        "XGBClassifier"
      ],
      "metadata": {
        "id": "a_QVNRBgabAe"
      }
    },
    {
      "cell_type": "code",
      "metadata": {
        "id": "lWzr3wryqsTM",
        "outputId": "9fe306d6-029e-4dfe-b60a-e9b0e3441391",
        "colab": {
          "base_uri": "https://localhost:8080/"
        }
      },
      "source": [
        "%%time\n",
        "# clf_xgb = xgb.XGBClassifier(random_state = 42, n_jobs=-1)\n",
        "clf_xgb = xgb.XGBClassifier(random_state = 42, booster = 'gblinear', n_jobs=-1)\n",
        "clf_xgb.fit(X_train, y_train)\n",
        "preds_xgb = clf_xgb.predict_proba(X_valid)[:, 1]\n",
        "print ('Train test split XGBClassifier score:% s ROC AUC'% round(roc_auc_score(y_valid, preds_xgb), 4))\n",
        "cross_score_xgb = np.mean (cross_val_score (clf_xgb, x_train_full, target, scoring = 'roc_auc', n_jobs=-1, cv=tscv))\n",
        "print ('Cross validation XGBClassifier score:% s ROC AUC'% round (cross_score_xgb, 4))"
      ],
      "execution_count": null,
      "outputs": [
        {
          "output_type": "stream",
          "name": "stdout",
          "text": [
            "Train test split XGBClassifier score:0.9142 ROC AUC\n"
          ]
        },
        {
          "output_type": "stream",
          "name": "stderr",
          "text": [
            "/usr/local/lib/python3.8/dist-packages/joblib/externals/loky/process_executor.py:700: UserWarning: A worker stopped while some jobs were given to the executor. This can be caused by a too short worker timeout or by a memory leak.\n",
            "  warnings.warn(\n"
          ]
        },
        {
          "output_type": "stream",
          "name": "stdout",
          "text": [
            "Cross validation XGBClassifier score:0.8666 ROC AUC\n",
            "CPU times: user 14.8 s, sys: 979 ms, total: 15.8 s\n",
            "Wall time: 35 s\n"
          ]
        }
      ]
    },
    {
      "cell_type": "code",
      "metadata": {
        "_uuid": "c768e8b22ee142349a734a0eb3d74626a3223d30",
        "_cell_guid": "116f8586-c7fb-4e9d-a1ba-96f62e41d1a9",
        "collapsed": true,
        "trusted": false,
        "id": "oN35FeKkqsTQ",
        "outputId": "bf73606b-e188-4f9f-8e35-02b67b9be22d",
        "colab": {
          "base_uri": "https://localhost:8080/",
          "height": 785
        }
      },
      "source": [
        "fpr_lr, tpr_lr, threshold = roc_curve(y_valid, preds_lr)\n",
        "roc_auc_lr = auc(fpr_lr, tpr_lr)\n",
        "\n",
        "fpr_rf, tpr_rf, threshold = roc_curve(y_valid, preds_rf)\n",
        "roc_auc_rf = auc(fpr_rf, tpr_rf)\n",
        "\n",
        "fpr_xgb, tpr_xgb, threshold = roc_curve(y_valid, preds_xgb)\n",
        "roc_auc_xgb = auc(fpr_xgb, tpr_xgb)\n",
        "\n",
        "plt.figure(figsize=(12,8))\n",
        "plt.title('Receiver Operating Characteristic Curve')\n",
        "plt.plot(fpr_lr, tpr_lr, 'r', label='AUC LR=%0.4f'%roc_auc_lr)\n",
        "plt.plot(fpr_rf, tpr_rf, 'b', label='AUC RF=%0.4f'%roc_auc_rf)\n",
        "plt.plot(fpr_xgb, tpr_xgb, 'g', label='AUC XGB REG=%0.4f'%roc_auc_xgb)\n",
        "plt.legend(loc='lowerright')\n",
        "plt.plot([0, 1], [0, 1], 'r--')\n",
        "plt.xlim([0, 1])\n",
        "plt.ylim([0, 1])\n",
        "plt.ylabel('True Positive Rate')\n",
        "plt.xlabel('False Positive Rate')"
      ],
      "execution_count": null,
      "outputs": [
        {
          "output_type": "stream",
          "name": "stderr",
          "text": [
            "<ipython-input-33-023dc37a950b>:15: MatplotlibDeprecationWarning: Unrecognized location 'lowerright'. Falling back on 'best'; valid locations are\n",
            "\tbest\n",
            "\tupper right\n",
            "\tupper left\n",
            "\tlower left\n",
            "\tlower right\n",
            "\tright\n",
            "\tcenter left\n",
            "\tcenter right\n",
            "\tlower center\n",
            "\tupper center\n",
            "\tcenter\n",
            "This will raise an exception in 3.3.\n",
            "  plt.legend(loc='lowerright')\n"
          ]
        },
        {
          "output_type": "execute_result",
          "data": {
            "text/plain": [
              "Text(0.5, 0, 'False Positive Rate')"
            ]
          },
          "metadata": {},
          "execution_count": 33
        },
        {
          "output_type": "display_data",
          "data": {
            "text/plain": [
              "<Figure size 864x576 with 1 Axes>"
            ],
            "image/png": "[encoded data removed]"
          },
          "metadata": {
            "needs_background": "light"
          }
        }
      ]
    },
    {
      "cell_type": "code",
      "metadata": {
        "_uuid": "1b228db2eb049c1a50da424eaf39d71868076c6c",
        "_cell_guid": "7e80d101-5dab-4c84-8bf4-7df5899db9ac",
        "trusted": false,
        "id": "M7E9CDnrqsTS"
      },
      "source": [
        "def show_confusion_matrix(y_true, y_pred,title='Confusionmatrix'):\n",
        "    table=confusion_matrix(y_true.values, y_pred)\n",
        "    fig, ax = plt.subplots(frameon=False)\n",
        "    fig.set_size_inches(4, 3)\n",
        "    fig.suptitle(title, fontsize=20)\n",
        "    ax.axis('off')\n",
        "    ax.xaxis.set_visible(False)\n",
        "    ax.yaxis.set_visible(False)\n",
        "\n",
        "    the_table=ax.table(cellText=table,\n",
        "                        colWidths=[0.5] * len([0, 1]),\n",
        "                        rowLabels=['True 0','True 1'], colLabels=['Predicted 0', 'Predicted 1'],\n",
        "                        cellLoc='center', rowLoc='center', loc=\"center\")\n",
        "    the_table.set_fontsize(34)\n",
        "    the_table.scale(1, 4)\n",
        "    plt.show()"
      ],
      "execution_count": null,
      "outputs": []
    },
    {
      "cell_type": "code",
      "metadata": {
        "_uuid": "4577d82fceb299ae5a662b501a8f08526774e4df",
        "_cell_guid": "0d5e97e8-0e21-4382-bae3-b1bccb0a7618",
        "collapsed": true,
        "trusted": false,
        "id": "zj1oG1xDqsTU",
        "outputId": "973e66e6-eb6a-49c6-8daa-129656431251",
        "colab": {
          "base_uri": "https://localhost:8080/",
          "height": 216
        }
      },
      "source": [
        "# матрица по логистической регрессии\n",
        "show_confusion_matrix(y_valid, clf_lr.predict(X_valid))"
      ],
      "execution_count": null,
      "outputs": [
        {
          "output_type": "display_data",
          "data": {
            "text/plain": [
              "<Figure size 288x216 with 1 Axes>"
            ],
            "image/png": "[encoded data removed]"
          },
          "metadata": {
            "needs_background": "light"
          }
        }
      ]
    },
    {
      "cell_type": "code",
      "metadata": {
        "id": "i11QN2E9qsTW",
        "outputId": "60d9baad-3fba-4d4e-d24e-2b79345a7e20",
        "colab": {
          "base_uri": "https://localhost:8080/",
          "height": 216
        }
      },
      "source": [
        "# матрица по деревьям решений\n",
        "show_confusion_matrix(y_valid, clf_rf.predict(X_valid))"
      ],
      "execution_count": null,
      "outputs": [
        {
          "output_type": "display_data",
          "data": {
            "text/plain": [
              "<Figure size 288x216 with 1 Axes>"
            ],
            "image/png": "[encoded data removed]"
          },
          "metadata": {
            "needs_background": "light"
          }
        }
      ]
    },
    {
      "cell_type": "code",
      "metadata": {
        "_uuid": "204f8a85b23fe35de6e4a17452e7e1530cb86eeb",
        "_cell_guid": "271a9bdc-6230-486a-9846-7888379930cd",
        "collapsed": true,
        "trusted": false,
        "id": "vj2XPQUGqsTZ",
        "outputId": "5028372b-f480-4e7e-babd-64980f4a59bb",
        "colab": {
          "base_uri": "https://localhost:8080/",
          "height": 216
        }
      },
      "source": [
        "# XGBClassifier\n",
        "show_confusion_matrix(y_valid, clf_xgb.predict(X_valid))"
      ],
      "execution_count": null,
      "outputs": [
        {
          "output_type": "display_data",
          "data": {
            "text/plain": [
              "<Figure size 288x216 with 1 Axes>"
            ],
            "image/png": "[encoded data removed]"
          },
          "metadata": {
            "needs_background": "light"
          }
        }
      ]
    },
    {
      "cell_type": "code",
      "metadata": {
        "id": "CY3e5D4IqsTb"
      },
      "source": [
        "def get_auc_lr_valid(X, y, C=1.0, seed=17, ratio = 0.9):\n",
        "    # Split the data into the training and validation sets\n",
        "    idx = int(round(X.shape[0] * ratio))\n",
        "    # Classifier training\n",
        "    lr = LogisticRegression(C=C, random_state=seed,max_iter=8000,n_jobs=-1,solver='lbfgs').fit(X[:idx, :], y[:idx])\n",
        "    # Prediction for validation set\n",
        "    y_pred = lr.predict_proba(X[idx:, :])[:, 1]\n",
        "    # Calculate the quality\n",
        "    score = roc_auc_score(y[idx:], y_pred)\n",
        "    return score"
      ],
      "execution_count": null,
      "outputs": []
    },
    {
      "cell_type": "code",
      "metadata": {
        "id": "ICBZGq_HqsTf",
        "outputId": "c572a258-fa3e-4ef4-c00d-f058e37f921d",
        "colab": {
          "base_uri": "https://localhost:8080/"
        }
      },
      "source": [
        "from tqdm import tqdm\n",
        "# List of possible C-values\n",
        "Cs = np.logspace(-1, 1, 20)\n",
        "\n",
        "scores = []\n",
        "\n",
        "for C in tqdm(Cs):\n",
        "    scores.append(get_auc_lr_valid(X_train, y_train, C=C))"
      ],
      "execution_count": null,
      "outputs": [
        {
          "output_type": "stream",
          "name": "stderr",
          "text": [
            "100%|██████████| 20/20 [03:57<00:00, 11.89s/it]\n"
          ]
        }
      ]
    },
    {
      "cell_type": "code",
      "metadata": {
        "id": "n0HoHyZrqsTg",
        "outputId": "d5d7933f-25c5-4f96-d172-7d17062a80df",
        "colab": {
          "base_uri": "https://localhost:8080/"
        }
      },
      "source": [
        "Cs"
      ],
      "execution_count": null,
      "outputs": [
        {
          "output_type": "execute_result",
          "data": {
            "text/plain": [
              "array([ 0.1       ,  0.1274275 ,  0.16237767,  0.20691381,  0.26366509,\n",
              "        0.33598183,  0.42813324,  0.54555948,  0.6951928 ,  0.88586679,\n",
              "        1.12883789,  1.43844989,  1.83298071,  2.33572147,  2.97635144,\n",
              "        3.79269019,  4.83293024,  6.15848211,  7.8475997 , 10.        ])"
            ]
          },
          "metadata": {},
          "execution_count": 40
        }
      ]
    },
    {
      "cell_type": "code",
      "metadata": {
        "id": "phuOdFlOqsTi",
        "outputId": "2999c1e7-f427-4935-e331-82477a07d0c0",
        "colab": {
          "base_uri": "https://localhost:8080/"
        }
      },
      "source": [
        "max(scores)"
      ],
      "execution_count": null,
      "outputs": [
        {
          "output_type": "execute_result",
          "data": {
            "text/plain": [
              "0.9856027850468005"
            ]
          },
          "metadata": {},
          "execution_count": 107
        }
      ]
    },
    {
      "cell_type": "code",
      "metadata": {
        "id": "KWyRUEbEqsTk",
        "outputId": "2797097a-ed8c-444c-cb77-3c4f07440ef6",
        "colab": {
          "base_uri": "https://localhost:8080/"
        }
      },
      "source": [
        "final_model = LogisticRegression(random_state = 17, C = Cs[np.argmax(scores)],n_jobs=1) \n",
        "final_model.fit(X_train,y_train) \n",
        "print('ROC_AUC on the test sample: {} '.format(round(roc_auc_score(y_valid,final_model.predict_proba(X_valid)[:,1]),4)))"
      ],
      "execution_count": null,
      "outputs": [
        {
          "output_type": "stream",
          "name": "stdout",
          "text": [
            "ROC_AUC on the test sample: 0.9804 \n"
          ]
        },
        {
          "output_type": "stream",
          "name": "stderr",
          "text": [
            "/usr/local/lib/python3.8/dist-packages/sklearn/linear_model/_logistic.py:814: ConvergenceWarning: lbfgs failed to converge (status=1):\n",
            "STOP: TOTAL NO. of ITERATIONS REACHED LIMIT.\n",
            "\n",
            "Increase the number of iterations (max_iter) or scale the data as shown in:\n",
            "    https://scikit-learn.org/stable/modules/preprocessing.html\n",
            "Please also refer to the documentation for alternative solver options:\n",
            "    https://scikit-learn.org/stable/modules/linear_model.html#logistic-regression\n",
            "  n_iter_i = _check_optimize_result(\n"
          ]
        }
      ]
    }
  ]
}